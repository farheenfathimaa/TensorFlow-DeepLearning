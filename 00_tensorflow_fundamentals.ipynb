{
  "nbformat": 4,
  "nbformat_minor": 0,
  "metadata": {
    "colab": {
      "provenance": [],
      "gpuType": "T4",
      "authorship_tag": "ABX9TyOGhNO3u6x/Ov7bcxeegbPx",
      "include_colab_link": true
    },
    "kernelspec": {
      "name": "python3",
      "display_name": "Python 3"
    },
    "language_info": {
      "name": "python"
    },
    "accelerator": "GPU"
  },
  "cells": [
    {
      "cell_type": "markdown",
      "metadata": {
        "id": "view-in-github",
        "colab_type": "text"
      },
      "source": [
        "<a href=\"https://colab.research.google.com/github/farheenfathimaa/TensorFlow-DeepLearning/blob/main/00_tensorflow_fundamentals.ipynb\" target=\"_parent\"><img src=\"https://colab.research.google.com/assets/colab-badge.svg\" alt=\"Open In Colab\"/></a>"
      ]
    },
    {
      "cell_type": "markdown",
      "source": [
        "# In this notebook, we're going to cover some of the most fundamental concepts of tensors using TensorFlow\n",
        "More specifically, we're going to cover:\n",
        "* Introduction to tensors (creating tensors)\n",
        "* Getting information from tensors (tensor attributes)\n",
        "* Manipulating tensors (tensor operations)\n",
        "* Tensors and NumPy\n",
        "* Using @tf.function (a way to speed up your regular Python functions)\n",
        "* Using GPUs with TensorFlow\n",
        "* Exercises to try\n",
        "\n",
        "Refer to [link](https://github.com/mrdbourke/tensorflow-deep-learning/blob/main/00_tensorflow_fundamentals.ipynb) for more details"
      ],
      "metadata": {
        "id": "X4N8ZMit4qUP"
      }
    },
    {
      "cell_type": "markdown",
      "source": [
        "## Introduction to Tensors"
      ],
      "metadata": {
        "id": "qZILA3nQ58-e"
      }
    },
    {
      "cell_type": "code",
      "source": [
        "# Import TensorFlow\n",
        "import tensorflow as tf\n",
        "print(tf.__version__)"
      ],
      "metadata": {
        "colab": {
          "base_uri": "https://localhost:8080/"
        },
        "id": "peNpqYqc7MSd",
        "outputId": "c8061cf8-b7ab-43cd-fdc4-6c8caa54153f"
      },
      "execution_count": null,
      "outputs": [
        {
          "output_type": "stream",
          "name": "stdout",
          "text": [
            "2.15.0\n"
          ]
        }
      ]
    },
    {
      "cell_type": "code",
      "source": [
        "# Create tensors with tf.constant()\n",
        "scalar = tf.constant(7)\n",
        "scalar"
      ],
      "metadata": {
        "colab": {
          "base_uri": "https://localhost:8080/"
        },
        "id": "_7ilxEZK7iZF",
        "outputId": "494a3a33-b8fc-4617-962f-232b17d3e82e"
      },
      "execution_count": null,
      "outputs": [
        {
          "output_type": "execute_result",
          "data": {
            "text/plain": [
              "<tf.Tensor: shape=(), dtype=int32, numpy=7>"
            ]
          },
          "metadata": {},
          "execution_count": 2
        }
      ]
    },
    {
      "cell_type": "code",
      "source": [
        "# Check the number of dimensions of a tensor (ndim stands for number of dimensions)\n",
        "scalar.ndim"
      ],
      "metadata": {
        "colab": {
          "base_uri": "https://localhost:8080/"
        },
        "id": "_OKXTmiS79JA",
        "outputId": "b4b4b800-0742-45ef-9fe8-4b540eaf1c94"
      },
      "execution_count": null,
      "outputs": [
        {
          "output_type": "execute_result",
          "data": {
            "text/plain": [
              "0"
            ]
          },
          "metadata": {},
          "execution_count": 3
        }
      ]
    },
    {
      "cell_type": "code",
      "source": [
        "# Create a vector\n",
        "vector = tf.constant([10, 10])\n",
        "vector"
      ],
      "metadata": {
        "colab": {
          "base_uri": "https://localhost:8080/"
        },
        "id": "AJRTAkX6HptY",
        "outputId": "3b915643-85da-46a7-e533-cb6b2e3c252a"
      },
      "execution_count": null,
      "outputs": [
        {
          "output_type": "execute_result",
          "data": {
            "text/plain": [
              "<tf.Tensor: shape=(2,), dtype=int32, numpy=array([10, 10], dtype=int32)>"
            ]
          },
          "metadata": {},
          "execution_count": 4
        }
      ]
    },
    {
      "cell_type": "code",
      "source": [
        "# Check the dimension of our vector\n",
        "vector.ndim"
      ],
      "metadata": {
        "colab": {
          "base_uri": "https://localhost:8080/"
        },
        "id": "0CBq4GZ9IEC6",
        "outputId": "f5e5f400-4be9-4924-cf46-291db817c380"
      },
      "execution_count": null,
      "outputs": [
        {
          "output_type": "execute_result",
          "data": {
            "text/plain": [
              "1"
            ]
          },
          "metadata": {},
          "execution_count": 5
        }
      ]
    },
    {
      "cell_type": "code",
      "source": [
        "# Create a matrix (has more than 1 dimension)\n",
        "matrix = tf.constant([[10, 7],\n",
        "                      [7, 10]])\n",
        "matrix"
      ],
      "metadata": {
        "colab": {
          "base_uri": "https://localhost:8080/"
        },
        "id": "2Z_HPCOAINFr",
        "outputId": "ca3069d6-0595-4722-a1f4-82f63428e804"
      },
      "execution_count": null,
      "outputs": [
        {
          "output_type": "execute_result",
          "data": {
            "text/plain": [
              "<tf.Tensor: shape=(2, 2), dtype=int32, numpy=\n",
              "array([[10,  7],\n",
              "       [ 7, 10]], dtype=int32)>"
            ]
          },
          "metadata": {},
          "execution_count": 6
        }
      ]
    },
    {
      "cell_type": "code",
      "source": [
        "# dimension of matrix\n",
        "matrix.ndim"
      ],
      "metadata": {
        "colab": {
          "base_uri": "https://localhost:8080/"
        },
        "id": "oguJ9qNdIsrv",
        "outputId": "b3119982-89d4-49c4-d7ed-fc9ca9be4cda"
      },
      "execution_count": null,
      "outputs": [
        {
          "output_type": "execute_result",
          "data": {
            "text/plain": [
              "2"
            ]
          },
          "metadata": {},
          "execution_count": 7
        }
      ]
    },
    {
      "cell_type": "code",
      "source": [
        "# Create another matrix\n",
        "another_matrix = tf.constant([[10., 7.],\n",
        "                              [3., 2.],\n",
        "                              [8., 9. ]], dtype=tf.float16) # specify the data type\n",
        "another_matrix"
      ],
      "metadata": {
        "colab": {
          "base_uri": "https://localhost:8080/"
        },
        "id": "jTl0-ArZI7ew",
        "outputId": "71f53acf-57c3-48a5-d3bb-09d32545e0f7"
      },
      "execution_count": null,
      "outputs": [
        {
          "output_type": "execute_result",
          "data": {
            "text/plain": [
              "<tf.Tensor: shape=(3, 2), dtype=float16, numpy=\n",
              "array([[10.,  7.],\n",
              "       [ 3.,  2.],\n",
              "       [ 8.,  9.]], dtype=float16)>"
            ]
          },
          "metadata": {},
          "execution_count": 8
        }
      ]
    },
    {
      "cell_type": "code",
      "source": [
        "# dimension of another_matrix\n",
        "another_matrix.ndim"
      ],
      "metadata": {
        "colab": {
          "base_uri": "https://localhost:8080/"
        },
        "id": "Sz-QIPDHJ1Kx",
        "outputId": "c944a2de-edd6-4f94-d5b8-dbd56aaee87f"
      },
      "execution_count": null,
      "outputs": [
        {
          "output_type": "execute_result",
          "data": {
            "text/plain": [
              "2"
            ]
          },
          "metadata": {},
          "execution_count": 9
        }
      ]
    },
    {
      "cell_type": "code",
      "source": [
        "# Let's create a tensor\n",
        "tensor = tf.constant([[[1, 2, 3],\n",
        "                       [4, 5, 6]],\n",
        "                      [[7, 8, 9],\n",
        "                       [10, 11, 12]],\n",
        "                      [[13, 14, 15],\n",
        "                       [16, 17, 18]]])\n",
        "tensor"
      ],
      "metadata": {
        "colab": {
          "base_uri": "https://localhost:8080/"
        },
        "id": "Ey-Q41kqLSUM",
        "outputId": "02bcd6de-9c95-4070-9c61-62242074a514"
      },
      "execution_count": null,
      "outputs": [
        {
          "output_type": "execute_result",
          "data": {
            "text/plain": [
              "<tf.Tensor: shape=(3, 2, 3), dtype=int32, numpy=\n",
              "array([[[ 1,  2,  3],\n",
              "        [ 4,  5,  6]],\n",
              "\n",
              "       [[ 7,  8,  9],\n",
              "        [10, 11, 12]],\n",
              "\n",
              "       [[13, 14, 15],\n",
              "        [16, 17, 18]]], dtype=int32)>"
            ]
          },
          "metadata": {},
          "execution_count": 10
        }
      ]
    },
    {
      "cell_type": "code",
      "source": [
        "tensor.ndim"
      ],
      "metadata": {
        "colab": {
          "base_uri": "https://localhost:8080/"
        },
        "id": "il2QQ3W0M3Lm",
        "outputId": "5519dc34-f8d3-48c5-8ed6-6e90d5af36eb"
      },
      "execution_count": null,
      "outputs": [
        {
          "output_type": "execute_result",
          "data": {
            "text/plain": [
              "3"
            ]
          },
          "metadata": {},
          "execution_count": 11
        }
      ]
    },
    {
      "cell_type": "markdown",
      "source": [
        "What we've created so far:\n",
        "* **Scalar:** a single number\n",
        "* **Vector:** a number with direction (e.g. wind speed and direction)\n",
        "* **Matrix:** a 2-dimensional array of numbers\n",
        "* **Tensor:** an n-dimensional array of numbers (where n can be any number, a 0-dimension tensor is a scalar, a 1-dimension tensor is a vector)."
      ],
      "metadata": {
        "id": "FrYrtFZ4PDjh"
      }
    },
    {
      "cell_type": "markdown",
      "source": [
        "### Creating tensors with `tf.Variable`\n",
        "tf.Variable: [link](https://www.tensorflow.org/api_docs/python/tf/Variable)"
      ],
      "metadata": {
        "id": "r2hWX8P5PRPo"
      }
    },
    {
      "cell_type": "code",
      "source": [
        "# Create the same tensor with tf.Variable() as above\n",
        "changeable_tensor = tf.Variable([10, 7])\n",
        "unchangeable_tensor = tf.constant([10, 7])\n",
        "changeable_tensor, unchangeable_tensor"
      ],
      "metadata": {
        "colab": {
          "base_uri": "https://localhost:8080/"
        },
        "id": "BVcvEmZWRsmr",
        "outputId": "95a49213-8c7a-4387-88d2-56dece3d1384"
      },
      "execution_count": null,
      "outputs": [
        {
          "output_type": "execute_result",
          "data": {
            "text/plain": [
              "(<tf.Variable 'Variable:0' shape=(2,) dtype=int32, numpy=array([10,  7], dtype=int32)>,\n",
              " <tf.Tensor: shape=(2,), dtype=int32, numpy=array([10,  7], dtype=int32)>)"
            ]
          },
          "metadata": {},
          "execution_count": 12
        }
      ]
    },
    {
      "cell_type": "code",
      "source": [
        "# Let's try change one of the elements in our changeable tensor\n",
        "# changeable_tensor[0] = 7\n",
        "# changeable_tensor"
      ],
      "metadata": {
        "id": "A_1bZWSMUtYm"
      },
      "execution_count": null,
      "outputs": []
    },
    {
      "cell_type": "code",
      "source": [
        "# How about we use .assign()\n",
        "changeable_tensor[0].assign(7)\n",
        "changeable_tensor"
      ],
      "metadata": {
        "colab": {
          "base_uri": "https://localhost:8080/"
        },
        "id": "6q3_oIRsVtxf",
        "outputId": "5ecaf9b0-23f3-405f-9fb6-9032fccccc94"
      },
      "execution_count": null,
      "outputs": [
        {
          "output_type": "execute_result",
          "data": {
            "text/plain": [
              "<tf.Variable 'Variable:0' shape=(2,) dtype=int32, numpy=array([7, 7], dtype=int32)>"
            ]
          },
          "metadata": {},
          "execution_count": 14
        }
      ]
    },
    {
      "cell_type": "code",
      "source": [
        "# Let's try to change our unchangeable tensor\n",
        "# unchangeable_tensor[0].assign(7)\n",
        "# unchangeable_tensor"
      ],
      "metadata": {
        "id": "2n5bmJ1yV7O1"
      },
      "execution_count": null,
      "outputs": []
    },
    {
      "cell_type": "markdown",
      "source": [
        "🗝️**Note:** Rarely in practice will you need to decide whether to use `tf.constant` or `tf.Variable` to create tensors, as TensorFlow does this for you. However, if in doubt, use tf.constant and change it later if needed."
      ],
      "metadata": {
        "id": "9maiNjAWWI9G"
      }
    },
    {
      "cell_type": "markdown",
      "source": [
        "### Creating random Tensors\n",
        "Random tensors are tensors of some abitrary size which contain random numbers.\n",
        "\n",
        "**tf.random.uniform:** *Outputs random values from a uniform distribution.* [link](https://www.tensorflow.org/api_docs/python/tf/random/uniform)\n",
        "\n",
        "**tf.random.normal:** *Outputs random values from a normal distribution.* [link](https://www.tensorflow.org/api_docs/python/tf/random/normal)"
      ],
      "metadata": {
        "id": "r5-MYq_yf3sn"
      }
    },
    {
      "cell_type": "code",
      "source": [
        "# Create two random (but the same) tensors\n",
        "random_1 = tf.random.Generator.from_seed(42) # set seed for reproducibility\n",
        "random_1 = random_1.normal(shape=(3, 2))\n",
        "random_2 = tf.random.Generator.from_seed(42)\n",
        "random_2 = random_2.normal(shape=(3, 2))\n",
        "\n",
        "# Are they equal?\n",
        "random_1, random_2, random_1 == random_2"
      ],
      "metadata": {
        "colab": {
          "base_uri": "https://localhost:8080/"
        },
        "id": "qMlsLG-UgJCO",
        "outputId": "7d457841-8d91-4789-ff4e-848bd64b24ef"
      },
      "execution_count": null,
      "outputs": [
        {
          "output_type": "execute_result",
          "data": {
            "text/plain": [
              "(<tf.Tensor: shape=(3, 2), dtype=float32, numpy=\n",
              " array([[-0.7565803 , -0.06854702],\n",
              "        [ 0.07595026, -1.2573844 ],\n",
              "        [-0.23193763, -1.8107855 ]], dtype=float32)>,\n",
              " <tf.Tensor: shape=(3, 2), dtype=float32, numpy=\n",
              " array([[-0.7565803 , -0.06854702],\n",
              "        [ 0.07595026, -1.2573844 ],\n",
              "        [-0.23193763, -1.8107855 ]], dtype=float32)>,\n",
              " <tf.Tensor: shape=(3, 2), dtype=bool, numpy=\n",
              " array([[ True,  True],\n",
              "        [ True,  True],\n",
              "        [ True,  True]])>)"
            ]
          },
          "metadata": {},
          "execution_count": 16
        }
      ]
    },
    {
      "cell_type": "markdown",
      "source": [
        "### Shuffle the order of elements in a tensor\n",
        "**tf.random.shuffle:** [link](https://www.tensorflow.org/api_docs/python/tf/random/shuffle)"
      ],
      "metadata": {
        "id": "gRk0kmy8i3xM"
      }
    },
    {
      "cell_type": "code",
      "source": [
        "# Shuffle a tensor (valuable for when you want to shuffle your data so the inherent order doesn't effect learning)\n",
        "not_shuffled = tf.constant([[10, 7],\n",
        "                            [3, 4],\n",
        "                            [2, 5]])\n",
        "# Gets different results each time\n",
        "tf.random.shuffle(not_shuffled)"
      ],
      "metadata": {
        "colab": {
          "base_uri": "https://localhost:8080/"
        },
        "id": "Vn9uABo8jWPi",
        "outputId": "091f2e7d-2d84-494d-e017-c90f8d56860f"
      },
      "execution_count": null,
      "outputs": [
        {
          "output_type": "execute_result",
          "data": {
            "text/plain": [
              "<tf.Tensor: shape=(3, 2), dtype=int32, numpy=\n",
              "array([[ 3,  4],\n",
              "       [ 2,  5],\n",
              "       [10,  7]], dtype=int32)>"
            ]
          },
          "metadata": {},
          "execution_count": 17
        }
      ]
    },
    {
      "cell_type": "code",
      "source": [
        "# Shuffle our non-shuffled tensor\n",
        "tf.random.set_seed(42) # Global level seed\n",
        "tf.random.shuffle(not_shuffled, seed=42) # Operational level seed"
      ],
      "metadata": {
        "colab": {
          "base_uri": "https://localhost:8080/"
        },
        "id": "uqSxbyFWk26p",
        "outputId": "30a7a775-9491-4441-d746-20270e06b5a3"
      },
      "execution_count": null,
      "outputs": [
        {
          "output_type": "execute_result",
          "data": {
            "text/plain": [
              "<tf.Tensor: shape=(3, 2), dtype=int32, numpy=\n",
              "array([[10,  7],\n",
              "       [ 3,  4],\n",
              "       [ 2,  5]], dtype=int32)>"
            ]
          },
          "metadata": {},
          "execution_count": 18
        }
      ]
    },
    {
      "cell_type": "markdown",
      "source": [
        "🛠️**Exercise:** Read through TensorFlow documentation on random seed generation: [Link](https://www.tensorflow.org/api_docs/python/tf/random/set_seed) and practice writing 5 random tensors and shuffle them.\n",
        "\n",
        "It looks like if we want our shuffled tensors to be in the same order, we've got to use the global level random seed as well as the operational level random seed:\n",
        "\n",
        "> ***Rule 4:*** *If both the global and the operation seed are set: Both seeds are used in conjunction to determine the random sequence.*"
      ],
      "metadata": {
        "id": "u70U-Al8lX0y"
      }
    },
    {
      "cell_type": "code",
      "source": [
        "tf.random.set_seed(42)\n",
        "t1 = tf.random.normal(shape=(3, 2))\n",
        "t1 = tf.random.shuffle(t1, seed=42)\n",
        "\n",
        "t2 = tf.random.normal(shape=(3, 2))\n",
        "t2 = tf.random.shuffle(t2, seed=42)\n",
        "\n",
        "t3 = tf.random.normal(shape=(3, 1))\n",
        "t3 = tf.random.shuffle(t3, seed=42)\n",
        "\n",
        "t4 = tf.random.normal(shape=(2, 2))\n",
        "t4 = tf.random.shuffle(t4, seed=42)\n",
        "\n",
        "t5 = tf.random.normal(shape=(3, 3))\n",
        "t5 = tf.random.shuffle(t5, seed=42)\n",
        "\n",
        "t1, t2, t3, t4, t5"
      ],
      "metadata": {
        "colab": {
          "base_uri": "https://localhost:8080/"
        },
        "id": "S9Nj-0RomDpa",
        "outputId": "297f42d9-9554-4689-d7f8-55233ec78e87"
      },
      "execution_count": null,
      "outputs": [
        {
          "output_type": "execute_result",
          "data": {
            "text/plain": [
              "(<tf.Tensor: shape=(3, 2), dtype=float32, numpy=\n",
              " array([[ 0.3274685, -0.8426258],\n",
              "        [ 0.3194337, -1.4075519],\n",
              "        [-2.3880599, -1.0392479]], dtype=float32)>,\n",
              " <tf.Tensor: shape=(3, 2), dtype=float32, numpy=\n",
              " array([[-0.49453196,  0.6178192 ],\n",
              "        [ 0.08422458, -0.86090374],\n",
              "        [ 0.37812304, -0.00519627]], dtype=float32)>,\n",
              " <tf.Tensor: shape=(3, 1), dtype=float32, numpy=\n",
              " array([[ 2.3730333 ],\n",
              "        [-0.55909735],\n",
              "        [-0.5347214 ]], dtype=float32)>,\n",
              " <tf.Tensor: shape=(2, 2), dtype=float32, numpy=\n",
              " array([[ 0.33997506, -1.0056272 ],\n",
              "        [ 0.65648675, -0.4130517 ]], dtype=float32)>,\n",
              " <tf.Tensor: shape=(3, 3), dtype=float32, numpy=\n",
              " array([[ 1.1985261 ,  0.8636208 ,  0.39257562],\n",
              "        [ 0.93457496, -0.16017465, -2.1050534 ],\n",
              "        [ 0.00924649, -0.66206276, -0.7410269 ]], dtype=float32)>)"
            ]
          },
          "metadata": {},
          "execution_count": 19
        }
      ]
    },
    {
      "cell_type": "markdown",
      "source": [
        "### Other ways to make tensors\n",
        "Though you might rarely use these (remember, many tensor operations are done behind the scenes for you), you can use `tf.ones()` to create a tensor of all ones and `tf.zeros()` to create a tensor of all zeros."
      ],
      "metadata": {
        "id": "U5HUCa3TmCzz"
      }
    },
    {
      "cell_type": "code",
      "source": [
        "# Tensor of all ones\n",
        "tf.ones([3, 2])"
      ],
      "metadata": {
        "colab": {
          "base_uri": "https://localhost:8080/"
        },
        "id": "AtiWTnuWqBQe",
        "outputId": "8a766bfa-40bb-4d23-e067-268d3dad4492"
      },
      "execution_count": null,
      "outputs": [
        {
          "output_type": "execute_result",
          "data": {
            "text/plain": [
              "<tf.Tensor: shape=(3, 2), dtype=float32, numpy=\n",
              "array([[1., 1.],\n",
              "       [1., 1.],\n",
              "       [1., 1.]], dtype=float32)>"
            ]
          },
          "metadata": {},
          "execution_count": 20
        }
      ]
    },
    {
      "cell_type": "code",
      "source": [
        "# Tensor of all zeroes\n",
        "tf.zeros([3, 2])"
      ],
      "metadata": {
        "colab": {
          "base_uri": "https://localhost:8080/"
        },
        "id": "E_x6RYn7qgRF",
        "outputId": "2d074dfa-f745-4475-b6de-c3df09dfda2d"
      },
      "execution_count": null,
      "outputs": [
        {
          "output_type": "execute_result",
          "data": {
            "text/plain": [
              "<tf.Tensor: shape=(3, 2), dtype=float32, numpy=\n",
              "array([[0., 0.],\n",
              "       [0., 0.],\n",
              "       [0., 0.]], dtype=float32)>"
            ]
          },
          "metadata": {},
          "execution_count": 21
        }
      ]
    },
    {
      "cell_type": "markdown",
      "source": [
        "### Turn NumPy arrays in into tensors.\n",
        "\n",
        "The main difference between tensors and NumPy arrays is that tensors can be run on GPUs (much faster for numerical computing).\n",
        "\n",
        " 🔑 **Note:** A matrix or tensor is typically represented by a capital letter (e.g. `X` or `A`) where as a vector is typically represented by a lowercase letter (e.g. `y` or `b`)."
      ],
      "metadata": {
        "id": "harfv2dNrHXg"
      }
    },
    {
      "cell_type": "code",
      "source": [
        "# You can also turn NumPy arrays into tensors\n",
        "import numpy as np\n",
        "numpy_A = np.arange(1, 25, dtype=np.int32) # create a NumPy array between 1 and 25\n",
        "numpy_A\n",
        "# X = tf.constant(some_matrix) # capital for matrix or tensor\n",
        "# y = tf.constant(vector) # nop-capital for vector"
      ],
      "metadata": {
        "colab": {
          "base_uri": "https://localhost:8080/"
        },
        "id": "W6zf5qrJqliF",
        "outputId": "1c21007c-a3b6-4438-86e8-6a555137e7c3"
      },
      "execution_count": null,
      "outputs": [
        {
          "output_type": "execute_result",
          "data": {
            "text/plain": [
              "array([ 1,  2,  3,  4,  5,  6,  7,  8,  9, 10, 11, 12, 13, 14, 15, 16, 17,\n",
              "       18, 19, 20, 21, 22, 23, 24], dtype=int32)"
            ]
          },
          "metadata": {},
          "execution_count": 22
        }
      ]
    },
    {
      "cell_type": "code",
      "source": [
        "A = tf.constant(numpy_A,shape=(2, 3, 4))\n",
        "B = tf.constant(numpy_A,shape=(3, 8))\n",
        "C = tf.constant(numpy_A)\n",
        "A, B, C"
      ],
      "metadata": {
        "colab": {
          "base_uri": "https://localhost:8080/"
        },
        "id": "AzIAQfoMsWul",
        "outputId": "a09ef272-1448-43b0-98ab-bd34d0f5fb05"
      },
      "execution_count": null,
      "outputs": [
        {
          "output_type": "execute_result",
          "data": {
            "text/plain": [
              "(<tf.Tensor: shape=(2, 3, 4), dtype=int32, numpy=\n",
              " array([[[ 1,  2,  3,  4],\n",
              "         [ 5,  6,  7,  8],\n",
              "         [ 9, 10, 11, 12]],\n",
              " \n",
              "        [[13, 14, 15, 16],\n",
              "         [17, 18, 19, 20],\n",
              "         [21, 22, 23, 24]]], dtype=int32)>,\n",
              " <tf.Tensor: shape=(3, 8), dtype=int32, numpy=\n",
              " array([[ 1,  2,  3,  4,  5,  6,  7,  8],\n",
              "        [ 9, 10, 11, 12, 13, 14, 15, 16],\n",
              "        [17, 18, 19, 20, 21, 22, 23, 24]], dtype=int32)>,\n",
              " <tf.Tensor: shape=(24,), dtype=int32, numpy=\n",
              " array([ 1,  2,  3,  4,  5,  6,  7,  8,  9, 10, 11, 12, 13, 14, 15, 16, 17,\n",
              "        18, 19, 20, 21, 22, 23, 24], dtype=int32)>)"
            ]
          },
          "metadata": {},
          "execution_count": 23
        }
      ]
    },
    {
      "cell_type": "markdown",
      "source": [
        "## Getting information from tensors (shape, rank, size)\n",
        "\n",
        "When dealing with tensors you probably want to be aware of the following attributes:\n",
        "* **Shape:** The length (number of elements) of each of the dimensions of a tensor.\n",
        "* **Rank:** The number of tensor dimensions. A scalar has rank 0, a vector has rank 1, a matrix is rank 2, a tensor has rank n.\n",
        "* **Axis or Dimension:** A particular dimension of a tensor.\n",
        "* **Size:** The total number of items in the tensor."
      ],
      "metadata": {
        "id": "eHH5GiSgsap4"
      }
    },
    {
      "cell_type": "code",
      "source": [
        "# Create a rank 4 tensor (4 dimensions)\n",
        "rank_4_tensor = tf.zeros([2, 3, 4, 5])\n",
        "rank_4_tensor"
      ],
      "metadata": {
        "colab": {
          "base_uri": "https://localhost:8080/"
        },
        "id": "ss3xChIitlKX",
        "outputId": "a45cf1b3-1176-4ddf-f2f2-c17719c4691a"
      },
      "execution_count": null,
      "outputs": [
        {
          "output_type": "execute_result",
          "data": {
            "text/plain": [
              "<tf.Tensor: shape=(2, 3, 4, 5), dtype=float32, numpy=\n",
              "array([[[[0., 0., 0., 0., 0.],\n",
              "         [0., 0., 0., 0., 0.],\n",
              "         [0., 0., 0., 0., 0.],\n",
              "         [0., 0., 0., 0., 0.]],\n",
              "\n",
              "        [[0., 0., 0., 0., 0.],\n",
              "         [0., 0., 0., 0., 0.],\n",
              "         [0., 0., 0., 0., 0.],\n",
              "         [0., 0., 0., 0., 0.]],\n",
              "\n",
              "        [[0., 0., 0., 0., 0.],\n",
              "         [0., 0., 0., 0., 0.],\n",
              "         [0., 0., 0., 0., 0.],\n",
              "         [0., 0., 0., 0., 0.]]],\n",
              "\n",
              "\n",
              "       [[[0., 0., 0., 0., 0.],\n",
              "         [0., 0., 0., 0., 0.],\n",
              "         [0., 0., 0., 0., 0.],\n",
              "         [0., 0., 0., 0., 0.]],\n",
              "\n",
              "        [[0., 0., 0., 0., 0.],\n",
              "         [0., 0., 0., 0., 0.],\n",
              "         [0., 0., 0., 0., 0.],\n",
              "         [0., 0., 0., 0., 0.]],\n",
              "\n",
              "        [[0., 0., 0., 0., 0.],\n",
              "         [0., 0., 0., 0., 0.],\n",
              "         [0., 0., 0., 0., 0.],\n",
              "         [0., 0., 0., 0., 0.]]]], dtype=float32)>"
            ]
          },
          "metadata": {},
          "execution_count": 24
        }
      ]
    },
    {
      "cell_type": "code",
      "source": [
        "rank_4_tensor.shape, rank_4_tensor.ndim, tf.size(rank_4_tensor)"
      ],
      "metadata": {
        "colab": {
          "base_uri": "https://localhost:8080/"
        },
        "id": "oZrN5mmFyjMN",
        "outputId": "904c6c8e-76cf-4c66-b362-b81ebe640ff3"
      },
      "execution_count": null,
      "outputs": [
        {
          "output_type": "execute_result",
          "data": {
            "text/plain": [
              "(TensorShape([2, 3, 4, 5]), 4, <tf.Tensor: shape=(), dtype=int32, numpy=120>)"
            ]
          },
          "metadata": {},
          "execution_count": 25
        }
      ]
    },
    {
      "cell_type": "code",
      "source": [
        "2*3*4*5"
      ],
      "metadata": {
        "colab": {
          "base_uri": "https://localhost:8080/"
        },
        "id": "cOxhQrRZy5_9",
        "outputId": "7f6f8fec-618c-4f9f-8f94-5a33d159d47b"
      },
      "execution_count": null,
      "outputs": [
        {
          "output_type": "execute_result",
          "data": {
            "text/plain": [
              "120"
            ]
          },
          "metadata": {},
          "execution_count": 26
        }
      ]
    },
    {
      "cell_type": "code",
      "source": [
        "# Get various attributes of tensor\n",
        "print(\"Datatype of every element:\", rank_4_tensor.dtype)\n",
        "print(\"Number of dimensions (rank):\", rank_4_tensor.ndim)\n",
        "print(\"Shape of tensor:\", rank_4_tensor.shape)\n",
        "print(\"Elements along axis 0 of tensor:\", rank_4_tensor.shape[0])\n",
        "print(\"Elements along last axis of tensor:\", rank_4_tensor.shape[-1])\n",
        "print(\"Total number of elements (2*3*4*5):\", tf.size(rank_4_tensor))\n",
        "print(\"Total number of elements:\", tf.size(rank_4_tensor).numpy()) # .numpy() converts to NumPy array"
      ],
      "metadata": {
        "colab": {
          "base_uri": "https://localhost:8080/"
        },
        "id": "_InIxlxezgyd",
        "outputId": "8e48600d-f91e-479e-94cc-8586dd454027"
      },
      "execution_count": null,
      "outputs": [
        {
          "output_type": "stream",
          "name": "stdout",
          "text": [
            "Datatype of every element: <dtype: 'float32'>\n",
            "Number of dimensions (rank): 4\n",
            "Shape of tensor: (2, 3, 4, 5)\n",
            "Elements along axis 0 of tensor: 2\n",
            "Elements along last axis of tensor: 5\n",
            "Total number of elements (2*3*4*5): tf.Tensor(120, shape=(), dtype=int32)\n",
            "Total number of elements: 120\n"
          ]
        }
      ]
    },
    {
      "cell_type": "markdown",
      "source": [
        "### Indexing Tensors\n",
        "Tensors can be indexed just like Python lists."
      ],
      "metadata": {
        "id": "1p17lGs-0OQ8"
      }
    },
    {
      "cell_type": "code",
      "source": [
        "# Get the first 2 elements of each dimension\n",
        "rank_4_tensor[:2, :2, :2, :2]"
      ],
      "metadata": {
        "colab": {
          "base_uri": "https://localhost:8080/"
        },
        "id": "RtvUgR4u0_jc",
        "outputId": "ba2b9f87-046b-47fc-f6b5-ca549bf4e8ea"
      },
      "execution_count": null,
      "outputs": [
        {
          "output_type": "execute_result",
          "data": {
            "text/plain": [
              "<tf.Tensor: shape=(2, 2, 2, 2), dtype=float32, numpy=\n",
              "array([[[[0., 0.],\n",
              "         [0., 0.]],\n",
              "\n",
              "        [[0., 0.],\n",
              "         [0., 0.]]],\n",
              "\n",
              "\n",
              "       [[[0., 0.],\n",
              "         [0., 0.]],\n",
              "\n",
              "        [[0., 0.],\n",
              "         [0., 0.]]]], dtype=float32)>"
            ]
          },
          "metadata": {},
          "execution_count": 28
        }
      ]
    },
    {
      "cell_type": "code",
      "source": [
        "# Get the first element from each dimension from each index except for the final one\n",
        "rank_4_tensor[:1, :1, :1, :]"
      ],
      "metadata": {
        "colab": {
          "base_uri": "https://localhost:8080/"
        },
        "id": "smy-pVMw1cPW",
        "outputId": "313eaa34-5825-4ef2-fbbf-1024a03e43f1"
      },
      "execution_count": null,
      "outputs": [
        {
          "output_type": "execute_result",
          "data": {
            "text/plain": [
              "<tf.Tensor: shape=(1, 1, 1, 5), dtype=float32, numpy=array([[[[0., 0., 0., 0., 0.]]]], dtype=float32)>"
            ]
          },
          "metadata": {},
          "execution_count": 29
        }
      ]
    },
    {
      "cell_type": "code",
      "source": [
        "rank_4_tensor[:1, :1, :, :1]"
      ],
      "metadata": {
        "colab": {
          "base_uri": "https://localhost:8080/"
        },
        "id": "gU8QGuFY18fa",
        "outputId": "a5f72d37-2873-48e2-db67-fce671ef3489"
      },
      "execution_count": null,
      "outputs": [
        {
          "output_type": "execute_result",
          "data": {
            "text/plain": [
              "<tf.Tensor: shape=(1, 1, 4, 1), dtype=float32, numpy=\n",
              "array([[[[0.],\n",
              "         [0.],\n",
              "         [0.],\n",
              "         [0.]]]], dtype=float32)>"
            ]
          },
          "metadata": {},
          "execution_count": 30
        }
      ]
    },
    {
      "cell_type": "code",
      "source": [
        "# Create a rank 2 tensor (2 dimensions)\n",
        "rank_2_tensor = tf.constant([[3, 4],\n",
        "                            [10, 7]])\n",
        "rank_2_tensor.shape, rank_2_tensor.ndim"
      ],
      "metadata": {
        "colab": {
          "base_uri": "https://localhost:8080/"
        },
        "id": "sSi2YYRO2eRf",
        "outputId": "09345d46-0369-42eb-97ef-9d8681ca332f"
      },
      "execution_count": null,
      "outputs": [
        {
          "output_type": "execute_result",
          "data": {
            "text/plain": [
              "(TensorShape([2, 2]), 2)"
            ]
          },
          "metadata": {},
          "execution_count": 31
        }
      ]
    },
    {
      "cell_type": "code",
      "source": [
        "# Get the last item of each row\n",
        "rank_2_tensor[:, -1]"
      ],
      "metadata": {
        "colab": {
          "base_uri": "https://localhost:8080/"
        },
        "id": "i1PbxcKW3EIo",
        "outputId": "218ba93c-5146-47ae-ca2e-545074b015b0"
      },
      "execution_count": null,
      "outputs": [
        {
          "output_type": "execute_result",
          "data": {
            "text/plain": [
              "<tf.Tensor: shape=(2,), dtype=int32, numpy=array([4, 7], dtype=int32)>"
            ]
          },
          "metadata": {},
          "execution_count": 32
        }
      ]
    },
    {
      "cell_type": "code",
      "source": [
        "# Add in extra dimension to our rank 2 tensor\n",
        "rank_3_tensor = rank_2_tensor[..., tf.newaxis] # `...` is the replacement to `:, :,`\n",
        "rank_3_tensor"
      ],
      "metadata": {
        "colab": {
          "base_uri": "https://localhost:8080/"
        },
        "id": "L-3jVhak3fvm",
        "outputId": "c86ba670-44d0-434e-9951-7a48b9f4b0f6"
      },
      "execution_count": null,
      "outputs": [
        {
          "output_type": "execute_result",
          "data": {
            "text/plain": [
              "<tf.Tensor: shape=(2, 2, 1), dtype=int32, numpy=\n",
              "array([[[ 3],\n",
              "        [ 4]],\n",
              "\n",
              "       [[10],\n",
              "        [ 7]]], dtype=int32)>"
            ]
          },
          "metadata": {},
          "execution_count": 33
        }
      ]
    },
    {
      "cell_type": "code",
      "source": [
        "# Alternative to tf.newaxis\n",
        "tf.expand_dims(rank_2_tensor, axis=-1) # `-1` means expand the final axis"
      ],
      "metadata": {
        "colab": {
          "base_uri": "https://localhost:8080/"
        },
        "id": "pbkVMybu43g5",
        "outputId": "f30f2860-5417-421e-ed8c-d46e9c14418f"
      },
      "execution_count": null,
      "outputs": [
        {
          "output_type": "execute_result",
          "data": {
            "text/plain": [
              "<tf.Tensor: shape=(2, 2, 1), dtype=int32, numpy=\n",
              "array([[[ 3],\n",
              "        [ 4]],\n",
              "\n",
              "       [[10],\n",
              "        [ 7]]], dtype=int32)>"
            ]
          },
          "metadata": {},
          "execution_count": 34
        }
      ]
    },
    {
      "cell_type": "code",
      "source": [
        "tf.expand_dims(rank_2_tensor, axis=0)"
      ],
      "metadata": {
        "colab": {
          "base_uri": "https://localhost:8080/"
        },
        "id": "vETrWM7C50pP",
        "outputId": "69c10c25-0e46-40b6-e03b-b0751a18fee5"
      },
      "execution_count": null,
      "outputs": [
        {
          "output_type": "execute_result",
          "data": {
            "text/plain": [
              "<tf.Tensor: shape=(1, 2, 2), dtype=int32, numpy=\n",
              "array([[[ 3,  4],\n",
              "        [10,  7]]], dtype=int32)>"
            ]
          },
          "metadata": {},
          "execution_count": 35
        }
      ]
    },
    {
      "cell_type": "markdown",
      "source": [
        "## Manipulating tensors (tensor operations)\n",
        "**Basic operations**\n",
        "\n",
        "`+`, `-`, `*`, `/`"
      ],
      "metadata": {
        "id": "M32GU1mt6RBM"
      }
    },
    {
      "cell_type": "code",
      "source": [
        "# You can add values to a tensor using the addition operator\n",
        "tensor = tf.constant([[10, 7], [3, 4]])\n",
        "tensor + 10"
      ],
      "metadata": {
        "colab": {
          "base_uri": "https://localhost:8080/"
        },
        "id": "8tR5AnJO6pLD",
        "outputId": "bfa0314d-8fa1-4cb6-fe49-05cede36a2c2"
      },
      "execution_count": null,
      "outputs": [
        {
          "output_type": "execute_result",
          "data": {
            "text/plain": [
              "<tf.Tensor: shape=(2, 2), dtype=int32, numpy=\n",
              "array([[20, 17],\n",
              "       [13, 14]], dtype=int32)>"
            ]
          },
          "metadata": {},
          "execution_count": 36
        }
      ]
    },
    {
      "cell_type": "code",
      "source": [
        "# Original tensor remains unchanged\n",
        "tensor"
      ],
      "metadata": {
        "colab": {
          "base_uri": "https://localhost:8080/"
        },
        "id": "-JILCYfR7gvS",
        "outputId": "f1c12fbc-409b-4e7a-fad0-6765b21182ce"
      },
      "execution_count": null,
      "outputs": [
        {
          "output_type": "execute_result",
          "data": {
            "text/plain": [
              "<tf.Tensor: shape=(2, 2), dtype=int32, numpy=\n",
              "array([[10,  7],\n",
              "       [ 3,  4]], dtype=int32)>"
            ]
          },
          "metadata": {},
          "execution_count": 37
        }
      ]
    },
    {
      "cell_type": "code",
      "source": [
        "tensor * 10"
      ],
      "metadata": {
        "colab": {
          "base_uri": "https://localhost:8080/"
        },
        "id": "yZgxmgJJ7r7n",
        "outputId": "d8d3b724-2700-41d8-87b2-dda2036f4b47"
      },
      "execution_count": null,
      "outputs": [
        {
          "output_type": "execute_result",
          "data": {
            "text/plain": [
              "<tf.Tensor: shape=(2, 2), dtype=int32, numpy=\n",
              "array([[100,  70],\n",
              "       [ 30,  40]], dtype=int32)>"
            ]
          },
          "metadata": {},
          "execution_count": 38
        }
      ]
    },
    {
      "cell_type": "code",
      "source": [
        "tensor - 10"
      ],
      "metadata": {
        "colab": {
          "base_uri": "https://localhost:8080/"
        },
        "id": "aKBommcX7384",
        "outputId": "4216d0c3-7e6a-4373-b95a-9e8c8a9913a8"
      },
      "execution_count": null,
      "outputs": [
        {
          "output_type": "execute_result",
          "data": {
            "text/plain": [
              "<tf.Tensor: shape=(2, 2), dtype=int32, numpy=\n",
              "array([[ 0, -3],\n",
              "       [-7, -6]], dtype=int32)>"
            ]
          },
          "metadata": {},
          "execution_count": 39
        }
      ]
    },
    {
      "cell_type": "code",
      "source": [
        "# We can use the built-in tensorflow functions too\n",
        "tf.multiply(tensor, 10)"
      ],
      "metadata": {
        "colab": {
          "base_uri": "https://localhost:8080/"
        },
        "id": "58eJsQcP76VD",
        "outputId": "2b5204cf-ca74-455b-daa4-859edcdfcf04"
      },
      "execution_count": null,
      "outputs": [
        {
          "output_type": "execute_result",
          "data": {
            "text/plain": [
              "<tf.Tensor: shape=(2, 2), dtype=int32, numpy=\n",
              "array([[100,  70],\n",
              "       [ 30,  40]], dtype=int32)>"
            ]
          },
          "metadata": {},
          "execution_count": 40
        }
      ]
    },
    {
      "cell_type": "markdown",
      "source": [
        "🗝️**Note:** You can use the equivalent TensorFlow function (where possible) has the advantage of being sped up later down the line when running as part of a TensorFlow graph.\n",
        "\n",
        "`*` --> `tf.multiply()`"
      ],
      "metadata": {
        "id": "-W2By14H8MjY"
      }
    },
    {
      "cell_type": "markdown",
      "source": [
        "**Matrix multiplication**\n",
        "\n",
        "To visualize matrix multiplication we can visit [link](http://matrixmultiplication.xyz)\n",
        "\n",
        "In Machine Learning, matrix multiplication is one of the most common tensor operations.\n",
        "\n",
        "🗝️**Note:** You can ommit the intermiadoir that is `linalg` from `tf.linalg.matmul()` which is a short trick in tensorflow to save time\n",
        "\n",
        "Matrix multiplication [thoery](https://www.mathsisfun.com/algebra/matrix-multiplying.html)\n",
        "\n",
        "🗝️**Note:** The main two rules for matrix multiplication to remember are:\n",
        "\n",
        "1. The inner dimensions must match:\n",
        "  * (3, 5) @ (3, 5) won't work\n",
        "  * (5, 3) @ (3, 5) will work\n",
        "  * (3, 5) @ (5, 3) will work\n",
        "2. The resulting matrix has the shape of the outer dimensions:\n",
        "  * (5, 3) @ (3, 5) -> (5, 5)\n",
        "  * (3, 5) @ (5, 3) -> (3, 3)\n",
        "  \n",
        "🗝️**Note:** `@` can be used for matrix multiplication, it's a python operator"
      ],
      "metadata": {
        "id": "TnUmvgB38pD9"
      }
    },
    {
      "cell_type": "code",
      "source": [
        "# Matrix multiplication in tensorflow\n",
        "print(tensor)\n",
        "tf.matmul(tensor, tensor)"
      ],
      "metadata": {
        "colab": {
          "base_uri": "https://localhost:8080/"
        },
        "id": "pSYL1bSO5wEr",
        "outputId": "06cb46e4-0385-46d1-aba0-240e0e86b932"
      },
      "execution_count": null,
      "outputs": [
        {
          "output_type": "stream",
          "name": "stdout",
          "text": [
            "tf.Tensor(\n",
            "[[10  7]\n",
            " [ 3  4]], shape=(2, 2), dtype=int32)\n"
          ]
        },
        {
          "output_type": "execute_result",
          "data": {
            "text/plain": [
              "<tf.Tensor: shape=(2, 2), dtype=int32, numpy=\n",
              "array([[121,  98],\n",
              "       [ 42,  37]], dtype=int32)>"
            ]
          },
          "metadata": {},
          "execution_count": 41
        }
      ]
    },
    {
      "cell_type": "markdown",
      "source": [
        "🛠️**Exercise:** recreating the following\n",
        "![image.png](data:image/png;base64,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)"
      ],
      "metadata": {
        "id": "7uuSCeauAgKr"
      }
    },
    {
      "cell_type": "code",
      "source": [
        "t1 = tf.constant([[1, 2, 5],\n",
        "                  [7, 2, 1],\n",
        "                  [3, 3, 3]])\n",
        "t2 = tf.constant([[3, 5],\n",
        "                  [6, 7],\n",
        "                  [1, 8]])\n",
        "tf.matmul(t1, t2)"
      ],
      "metadata": {
        "colab": {
          "base_uri": "https://localhost:8080/"
        },
        "id": "1O9dSbTNAy_E",
        "outputId": "754ee596-d984-43d1-af8b-92547853407f"
      },
      "execution_count": null,
      "outputs": [
        {
          "output_type": "execute_result",
          "data": {
            "text/plain": [
              "<tf.Tensor: shape=(3, 2), dtype=int32, numpy=\n",
              "array([[20, 59],\n",
              "       [34, 57],\n",
              "       [30, 60]], dtype=int32)>"
            ]
          },
          "metadata": {},
          "execution_count": 42
        }
      ]
    },
    {
      "cell_type": "code",
      "source": [
        "tensor * tensor"
      ],
      "metadata": {
        "colab": {
          "base_uri": "https://localhost:8080/"
        },
        "id": "Ayr4nl-H7L8f",
        "outputId": "5861834a-9032-4b2e-f8d8-e8eaafd5ca6c"
      },
      "execution_count": null,
      "outputs": [
        {
          "output_type": "execute_result",
          "data": {
            "text/plain": [
              "<tf.Tensor: shape=(2, 2), dtype=int32, numpy=\n",
              "array([[100,  49],\n",
              "       [  9,  16]], dtype=int32)>"
            ]
          },
          "metadata": {},
          "execution_count": 43
        }
      ]
    },
    {
      "cell_type": "code",
      "source": [
        "# Matrix multiplication with python operator \"@\"\n",
        "tensor @ tensor"
      ],
      "metadata": {
        "colab": {
          "base_uri": "https://localhost:8080/"
        },
        "id": "EutoxYSu7ujm",
        "outputId": "f5694862-c570-480a-b69f-0125d6c4c58c"
      },
      "execution_count": null,
      "outputs": [
        {
          "output_type": "execute_result",
          "data": {
            "text/plain": [
              "<tf.Tensor: shape=(2, 2), dtype=int32, numpy=\n",
              "array([[121,  98],\n",
              "       [ 42,  37]], dtype=int32)>"
            ]
          },
          "metadata": {},
          "execution_count": 44
        }
      ]
    },
    {
      "cell_type": "code",
      "source": [
        "# Create a (3, 2) tensor [which I already have]\n",
        "t2\n",
        "# Create another (3, 2) tensor\n",
        "X = tf.constant([[1, 2],\n",
        "                 [3, 4],\n",
        "                 [5, 6]])\n",
        "t2, X"
      ],
      "metadata": {
        "colab": {
          "base_uri": "https://localhost:8080/"
        },
        "id": "m8HvrkGDBo_m",
        "outputId": "234594c7-b66e-400f-e48c-a89abda44d9c"
      },
      "execution_count": null,
      "outputs": [
        {
          "output_type": "execute_result",
          "data": {
            "text/plain": [
              "(<tf.Tensor: shape=(3, 2), dtype=int32, numpy=\n",
              " array([[3, 5],\n",
              "        [6, 7],\n",
              "        [1, 8]], dtype=int32)>,\n",
              " <tf.Tensor: shape=(3, 2), dtype=int32, numpy=\n",
              " array([[1, 2],\n",
              "        [3, 4],\n",
              "        [5, 6]], dtype=int32)>)"
            ]
          },
          "metadata": {},
          "execution_count": 45
        }
      ]
    },
    {
      "cell_type": "code",
      "source": [
        "# Try to matrix multiply tensors of same shape\n",
        "# X @ t2"
      ],
      "metadata": {
        "id": "2tG9LokGDToD"
      },
      "execution_count": null,
      "outputs": []
    },
    {
      "cell_type": "markdown",
      "source": [
        "We need to either:\n",
        "\n",
        "* Reshape X to (2, 3) so it's (2, 3) @ (3, 2).\n",
        "* Reshape Y to (3, 2) so it's (3, 2) @ (2, 3).\n",
        "\n",
        "We can do this with either:\n",
        "\n",
        "* tf.reshape() - allows us to reshape a tensor into a defined shape.\n",
        "* tf.transpose() - switches the dimensions of a given tensor.\n",
        "\n",
        "![image.png](data:image/png;base64,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)\n",
        "\n",
        "[tf.transpose](https://www.tensorflow.org/api_docs/python/tf/transpose?authuser=1)\n",
        "\n",
        "[tf.replace](https://www.tensorflow.org/api_docs/python/tf/reshape)"
      ],
      "metadata": {
        "id": "MxYhS8syDe7i"
      }
    },
    {
      "cell_type": "code",
      "source": [
        "# transpose of t2\n",
        "X @ tf.transpose(t2)"
      ],
      "metadata": {
        "colab": {
          "base_uri": "https://localhost:8080/"
        },
        "id": "737BWfPGFNDm",
        "outputId": "d54b7582-2bd0-4e84-f53a-54aedcdade89"
      },
      "execution_count": null,
      "outputs": [
        {
          "output_type": "execute_result",
          "data": {
            "text/plain": [
              "<tf.Tensor: shape=(3, 3), dtype=int32, numpy=\n",
              "array([[13, 20, 17],\n",
              "       [29, 46, 35],\n",
              "       [45, 72, 53]], dtype=int32)>"
            ]
          },
          "metadata": {},
          "execution_count": 47
        }
      ]
    },
    {
      "cell_type": "code",
      "source": [
        "# transpose of X\n",
        "tf.transpose(X) @ t2"
      ],
      "metadata": {
        "colab": {
          "base_uri": "https://localhost:8080/"
        },
        "id": "x3zhG73IFaIo",
        "outputId": "9a1ba49f-4320-487f-90a1-047e5963aa4b"
      },
      "execution_count": null,
      "outputs": [
        {
          "output_type": "execute_result",
          "data": {
            "text/plain": [
              "<tf.Tensor: shape=(2, 2), dtype=int32, numpy=\n",
              "array([[26, 66],\n",
              "       [36, 86]], dtype=int32)>"
            ]
          },
          "metadata": {},
          "execution_count": 48
        }
      ]
    },
    {
      "cell_type": "code",
      "source": [
        "# Let's change shape of t2\n",
        "tf.reshape(t2, shape=(2, 3))"
      ],
      "metadata": {
        "colab": {
          "base_uri": "https://localhost:8080/"
        },
        "id": "EUpYy5J-HL83",
        "outputId": "b7fee078-cb29-422f-fb9f-cbb108baeea8"
      },
      "execution_count": null,
      "outputs": [
        {
          "output_type": "execute_result",
          "data": {
            "text/plain": [
              "<tf.Tensor: shape=(2, 3), dtype=int32, numpy=\n",
              "array([[3, 5, 6],\n",
              "       [7, 1, 8]], dtype=int32)>"
            ]
          },
          "metadata": {},
          "execution_count": 49
        }
      ]
    },
    {
      "cell_type": "code",
      "source": [
        "tf.matmul(X, tf.reshape(t2, shape=(2, 3)))"
      ],
      "metadata": {
        "colab": {
          "base_uri": "https://localhost:8080/"
        },
        "id": "UmYQLRLzHdrq",
        "outputId": "a211d8ee-1f97-4e71-dadf-cd26fe570151"
      },
      "execution_count": null,
      "outputs": [
        {
          "output_type": "execute_result",
          "data": {
            "text/plain": [
              "<tf.Tensor: shape=(3, 3), dtype=int32, numpy=\n",
              "array([[17,  7, 22],\n",
              "       [37, 19, 50],\n",
              "       [57, 31, 78]], dtype=int32)>"
            ]
          },
          "metadata": {},
          "execution_count": 50
        }
      ]
    },
    {
      "cell_type": "code",
      "source": [
        "# reshaping X\n",
        "tf.matmul(tf.reshape(X, shape=(2, 3)), t2)"
      ],
      "metadata": {
        "colab": {
          "base_uri": "https://localhost:8080/"
        },
        "id": "Y8YwY4bzHkBK",
        "outputId": "34435547-cd7c-423a-c610-c6fc14317b2f"
      },
      "execution_count": null,
      "outputs": [
        {
          "output_type": "execute_result",
          "data": {
            "text/plain": [
              "<tf.Tensor: shape=(2, 2), dtype=int32, numpy=\n",
              "array([[ 18,  43],\n",
              "       [ 48, 103]], dtype=int32)>"
            ]
          },
          "metadata": {},
          "execution_count": 51
        }
      ]
    },
    {
      "cell_type": "markdown",
      "source": [
        "The main difference between transpose and reshape is that **transpose** is for *flipping the axis* and **reshaping** is for *reshuffling*.\n",
        "\n",
        "The result of reshape and transpose is different because of the following"
      ],
      "metadata": {
        "id": "uOnwC_-fHyBA"
      }
    },
    {
      "cell_type": "code",
      "source": [
        "X, tf.transpose(X), tf.reshape(X, shape=(2, 3))"
      ],
      "metadata": {
        "colab": {
          "base_uri": "https://localhost:8080/"
        },
        "id": "m82DUp7gJGiJ",
        "outputId": "f108d12d-9276-425b-829c-735e9274f8ff"
      },
      "execution_count": null,
      "outputs": [
        {
          "output_type": "execute_result",
          "data": {
            "text/plain": [
              "(<tf.Tensor: shape=(3, 2), dtype=int32, numpy=\n",
              " array([[1, 2],\n",
              "        [3, 4],\n",
              "        [5, 6]], dtype=int32)>,\n",
              " <tf.Tensor: shape=(2, 3), dtype=int32, numpy=\n",
              " array([[1, 3, 5],\n",
              "        [2, 4, 6]], dtype=int32)>,\n",
              " <tf.Tensor: shape=(2, 3), dtype=int32, numpy=\n",
              " array([[1, 2, 3],\n",
              "        [4, 5, 6]], dtype=int32)>)"
            ]
          },
          "metadata": {},
          "execution_count": 52
        }
      ]
    },
    {
      "cell_type": "markdown",
      "source": [
        "**The dot product**\n",
        "\n",
        "Multiplying matrices by eachother is also referred to as the dot product.\n",
        "\n",
        "You can perform Matrix multiplication using:\n",
        "* `tf.matmul()`\n",
        "* `tf.tensordot()`\n",
        "* `@`"
      ],
      "metadata": {
        "id": "VRaaoKyzJS4z"
      }
    },
    {
      "cell_type": "markdown",
      "source": [
        "🗝️**Note:** there is no direct method for renaming the tensor but to rename a tensor we can use `tf.identity()`"
      ],
      "metadata": {
        "id": "ozjfstRXNWvS"
      }
    },
    {
      "cell_type": "code",
      "source": [
        "# renaming t2 to Y\n",
        "Y = tf.identity(t2, name= \"Y\")\n",
        "Y"
      ],
      "metadata": {
        "colab": {
          "base_uri": "https://localhost:8080/"
        },
        "id": "TdyjiseXMDpP",
        "outputId": "381f790c-42f2-4caf-be1d-a14f74331488"
      },
      "execution_count": null,
      "outputs": [
        {
          "output_type": "execute_result",
          "data": {
            "text/plain": [
              "<tf.Tensor: shape=(3, 2), dtype=int32, numpy=\n",
              "array([[3, 5],\n",
              "       [6, 7],\n",
              "       [1, 8]], dtype=int32)>"
            ]
          },
          "metadata": {},
          "execution_count": 53
        }
      ]
    },
    {
      "cell_type": "code",
      "source": [
        "X"
      ],
      "metadata": {
        "colab": {
          "base_uri": "https://localhost:8080/"
        },
        "id": "KCaiMmZjOs19",
        "outputId": "cd855cad-2753-4dbd-ebd1-da0671d162b7"
      },
      "execution_count": null,
      "outputs": [
        {
          "output_type": "execute_result",
          "data": {
            "text/plain": [
              "<tf.Tensor: shape=(3, 2), dtype=int32, numpy=\n",
              "array([[1, 2],\n",
              "       [3, 4],\n",
              "       [5, 6]], dtype=int32)>"
            ]
          },
          "metadata": {},
          "execution_count": 54
        }
      ]
    },
    {
      "cell_type": "code",
      "source": [
        "# Perform the dot product of X and Y using tensordot (requires one of them to be transposed)\n",
        "tf.tensordot(X, tf.transpose(Y), axes=1)"
      ],
      "metadata": {
        "colab": {
          "base_uri": "https://localhost:8080/"
        },
        "id": "te1LQqEkM6Z9",
        "outputId": "ac62a5e1-98b4-4a01-e2f3-2bddd8fc81c0"
      },
      "execution_count": null,
      "outputs": [
        {
          "output_type": "execute_result",
          "data": {
            "text/plain": [
              "<tf.Tensor: shape=(3, 3), dtype=int32, numpy=\n",
              "array([[13, 20, 17],\n",
              "       [29, 46, 35],\n",
              "       [45, 72, 53]], dtype=int32)>"
            ]
          },
          "metadata": {},
          "execution_count": 55
        }
      ]
    },
    {
      "cell_type": "markdown",
      "source": [
        "[tf.tensordot](https://www.tensorflow.org/api_docs/python/tf/tensordot)"
      ],
      "metadata": {
        "id": "s4UJCr_iO11l"
      }
    },
    {
      "cell_type": "code",
      "source": [
        "# Check the values of Y, reshape Y and Transposed Y\n",
        "print(\"Normal Y: \")\n",
        "print(Y, \"\\n\") # \"\\n\" is for new line\n",
        "\n",
        "print(\"Reshaped Y: \")\n",
        "print(tf.reshape(Y, (2, 3)), \"\\n\")\n",
        "\n",
        "print(\"Transposed Y: \")\n",
        "print(tf.transpose(Y))"
      ],
      "metadata": {
        "colab": {
          "base_uri": "https://localhost:8080/"
        },
        "id": "8r3Wt8YNPQ0U",
        "outputId": "09ce340d-edd5-4fe7-f592-83ec7c125153"
      },
      "execution_count": null,
      "outputs": [
        {
          "output_type": "stream",
          "name": "stdout",
          "text": [
            "Normal Y: \n",
            "tf.Tensor(\n",
            "[[3 5]\n",
            " [6 7]\n",
            " [1 8]], shape=(3, 2), dtype=int32) \n",
            "\n",
            "Reshaped Y: \n",
            "tf.Tensor(\n",
            "[[3 5 6]\n",
            " [7 1 8]], shape=(2, 3), dtype=int32) \n",
            "\n",
            "Transposed Y: \n",
            "tf.Tensor(\n",
            "[[3 6 1]\n",
            " [5 7 8]], shape=(2, 3), dtype=int32)\n"
          ]
        }
      ]
    },
    {
      "cell_type": "markdown",
      "source": [
        "🗝️**Note:** whenever performing a matrix multiplication and the shapes of two matrices don't line up, you will `transpose` (not reshape) one of them in order to line them up."
      ],
      "metadata": {
        "id": "_J227xDFQOwf"
      }
    },
    {
      "cell_type": "markdown",
      "source": [
        "### Changing the datatype of a tensor"
      ],
      "metadata": {
        "id": "JT2PPhfsQ1kQ"
      }
    },
    {
      "cell_type": "code",
      "source": [
        "# Create a new tensor with default datatype (float32)\n",
        "B = tf.constant([1.7, 7.4])\n",
        "B, B.dtype"
      ],
      "metadata": {
        "colab": {
          "base_uri": "https://localhost:8080/"
        },
        "id": "JuXuVuWBRZ2H",
        "outputId": "8ff8db27-8719-4531-cef6-f4a8b611bce9"
      },
      "execution_count": null,
      "outputs": [
        {
          "output_type": "execute_result",
          "data": {
            "text/plain": [
              "(<tf.Tensor: shape=(2,), dtype=float32, numpy=array([1.7, 7.4], dtype=float32)>,\n",
              " tf.float32)"
            ]
          },
          "metadata": {},
          "execution_count": 57
        }
      ]
    },
    {
      "cell_type": "code",
      "source": [
        "C = tf.constant([7, 10])\n",
        "C, C.dtype"
      ],
      "metadata": {
        "colab": {
          "base_uri": "https://localhost:8080/"
        },
        "id": "Aw72rb9jSp43",
        "outputId": "4e881c59-5ab6-4db6-c038-64778311d21c"
      },
      "execution_count": null,
      "outputs": [
        {
          "output_type": "execute_result",
          "data": {
            "text/plain": [
              "(<tf.Tensor: shape=(2,), dtype=int32, numpy=array([ 7, 10], dtype=int32)>,\n",
              " tf.int32)"
            ]
          },
          "metadata": {},
          "execution_count": 58
        }
      ]
    },
    {
      "cell_type": "markdown",
      "source": [
        "> Mixed precision is the use of both 16-bit and 32-bit floating-point types in a model during training to make it run faster and use less memory.\n",
        "\n",
        "> Today, most models use the float32 dtype, which takes 32 bits of memory. However, there are two lower-precision dtypes, float16 and bfloat16, each which take 16 bits of memory instead. Modern accelerators can run operations faster in the 16-bit dtypes, as they have specialized hardware to run 16-bit computations and 16-bit dtypes can be read from memory faster.\n",
        "\n",
        "[Mixed-precision](https://www.tensorflow.org/guide/mixed_precision?authuser=1)\n",
        "\n",
        "You can change the datatype of a tensor using `tf.cast()`."
      ],
      "metadata": {
        "id": "lu_dvgIVTjev"
      }
    },
    {
      "cell_type": "code",
      "source": [
        "# Change from float32 to float16 (reduced precision)\n",
        "D = tf.cast(B, dtype=tf.float16)\n",
        "D, D.dtype"
      ],
      "metadata": {
        "colab": {
          "base_uri": "https://localhost:8080/"
        },
        "id": "iZ-ralaNSume",
        "outputId": "33f402c6-f657-4141-97a6-ec47f93a9007"
      },
      "execution_count": null,
      "outputs": [
        {
          "output_type": "execute_result",
          "data": {
            "text/plain": [
              "(<tf.Tensor: shape=(2,), dtype=float16, numpy=array([1.7, 7.4], dtype=float16)>,\n",
              " tf.float16)"
            ]
          },
          "metadata": {},
          "execution_count": 59
        }
      ]
    },
    {
      "cell_type": "code",
      "source": [
        "# Change from int32 to float32\n",
        "E = tf.cast(C, dtype=tf.float32)\n",
        "E, E.dtype"
      ],
      "metadata": {
        "colab": {
          "base_uri": "https://localhost:8080/"
        },
        "id": "8OKUM47UUaMu",
        "outputId": "1699bf06-28fe-47a3-9ee8-8d6b8b778f2e"
      },
      "execution_count": null,
      "outputs": [
        {
          "output_type": "execute_result",
          "data": {
            "text/plain": [
              "(<tf.Tensor: shape=(2,), dtype=float32, numpy=array([ 7., 10.], dtype=float32)>,\n",
              " tf.float32)"
            ]
          },
          "metadata": {},
          "execution_count": 60
        }
      ]
    },
    {
      "cell_type": "code",
      "source": [
        "E_float16 = tf.cast(E, dtype=tf.float16)\n",
        "E_float16"
      ],
      "metadata": {
        "colab": {
          "base_uri": "https://localhost:8080/"
        },
        "id": "NgLYBjHMW68-",
        "outputId": "fef10b91-0dc1-48f1-c2ff-d5caad08faad"
      },
      "execution_count": null,
      "outputs": [
        {
          "output_type": "execute_result",
          "data": {
            "text/plain": [
              "<tf.Tensor: shape=(2,), dtype=float16, numpy=array([ 7., 10.], dtype=float16)>"
            ]
          },
          "metadata": {},
          "execution_count": 61
        }
      ]
    },
    {
      "cell_type": "markdown",
      "source": [
        "### Aggregating tensors\n",
        "Aggregating tensors = condensing them from multiple values down to a smaller amount of values."
      ],
      "metadata": {
        "id": "jwstFow3XRed"
      }
    },
    {
      "cell_type": "code",
      "source": [
        "# Get the absolube value using tf.abs()\n",
        "D = tf.constant([-7, -10])\n",
        "tf.abs(D)"
      ],
      "metadata": {
        "id": "HoYeKzEzXgYY",
        "colab": {
          "base_uri": "https://localhost:8080/"
        },
        "outputId": "e9181fef-b6f6-40b1-941f-99e03a645e07"
      },
      "execution_count": null,
      "outputs": [
        {
          "output_type": "execute_result",
          "data": {
            "text/plain": [
              "<tf.Tensor: shape=(2,), dtype=int32, numpy=array([ 7, 10], dtype=int32)>"
            ]
          },
          "metadata": {},
          "execution_count": 62
        }
      ]
    },
    {
      "cell_type": "markdown",
      "source": [
        "Aggregation methods typically have the syntax `reduce()_[action]`, such as:\n",
        "\n",
        "* `tf.reduce_min()` - find the minimum value in a tensor.\n",
        "* `tf.reduce_max()` - find the maximum value in a tensor (helpful for when you want to find the highest prediction probability).\n",
        "* `tf.reduce_mean()` - find the mean of all elements in a tensor.\n",
        "* `tf.reduce_sum()` - find the sum of all elements in a tensor.\n",
        "\n",
        "🗝️**Note:** typically, each of these is under the `math` module, e.g. `tf.math.reduce_min(`) but you can use the alias `tf.reduce_min()`."
      ],
      "metadata": {
        "id": "96CZLJqIXga7"
      }
    },
    {
      "cell_type": "code",
      "source": [
        "# Creating a new tensor X\n",
        "X = tf.constant([[10, 7],\n",
        "                [7, 10]])\n",
        "X"
      ],
      "metadata": {
        "colab": {
          "base_uri": "https://localhost:8080/"
        },
        "id": "zcht7exRX4q7",
        "outputId": "0de7a88d-8565-4fda-efc3-45b257d6b5ed"
      },
      "execution_count": null,
      "outputs": [
        {
          "output_type": "execute_result",
          "data": {
            "text/plain": [
              "<tf.Tensor: shape=(2, 2), dtype=int32, numpy=\n",
              "array([[10,  7],\n",
              "       [ 7, 10]], dtype=int32)>"
            ]
          },
          "metadata": {},
          "execution_count": 63
        }
      ]
    },
    {
      "cell_type": "code",
      "source": [
        "# min of X\n",
        "tf.reduce_min(X)"
      ],
      "metadata": {
        "colab": {
          "base_uri": "https://localhost:8080/"
        },
        "id": "Tb3wfEkxZCZY",
        "outputId": "da593e86-50f1-4233-e1f0-2e048cda31d7"
      },
      "execution_count": null,
      "outputs": [
        {
          "output_type": "execute_result",
          "data": {
            "text/plain": [
              "<tf.Tensor: shape=(), dtype=int32, numpy=7>"
            ]
          },
          "metadata": {},
          "execution_count": 64
        }
      ]
    },
    {
      "cell_type": "code",
      "source": [
        "# max of X\n",
        "tf.reduce_max(X)"
      ],
      "metadata": {
        "colab": {
          "base_uri": "https://localhost:8080/"
        },
        "id": "O1mxVOtDZMm5",
        "outputId": "f14504a7-2aff-4fa1-e45f-d1c862fd09b5"
      },
      "execution_count": null,
      "outputs": [
        {
          "output_type": "execute_result",
          "data": {
            "text/plain": [
              "<tf.Tensor: shape=(), dtype=int32, numpy=10>"
            ]
          },
          "metadata": {},
          "execution_count": 65
        }
      ]
    },
    {
      "cell_type": "code",
      "source": [
        "# sum of X\n",
        "tf.reduce_sum(X)"
      ],
      "metadata": {
        "colab": {
          "base_uri": "https://localhost:8080/"
        },
        "id": "SOqCpwP0ZRlH",
        "outputId": "df7a9fa1-4526-4750-e345-c832abb0b673"
      },
      "execution_count": null,
      "outputs": [
        {
          "output_type": "execute_result",
          "data": {
            "text/plain": [
              "<tf.Tensor: shape=(), dtype=int32, numpy=34>"
            ]
          },
          "metadata": {},
          "execution_count": 66
        }
      ]
    },
    {
      "cell_type": "code",
      "source": [
        "# mean of X\n",
        "tf.reduce_mean(X)"
      ],
      "metadata": {
        "colab": {
          "base_uri": "https://localhost:8080/"
        },
        "id": "ni_X9GqTZWd6",
        "outputId": "91e00bab-f8a8-4415-ff75-7a02e13c851a"
      },
      "execution_count": null,
      "outputs": [
        {
          "output_type": "execute_result",
          "data": {
            "text/plain": [
              "<tf.Tensor: shape=(), dtype=int32, numpy=8>"
            ]
          },
          "metadata": {},
          "execution_count": 67
        }
      ]
    },
    {
      "cell_type": "code",
      "source": [
        "# Create a random tensor with values between 0 and 100 of size 50\n",
        "E = tf.constant(np.random.randint(0, 100, size=50))\n",
        "E"
      ],
      "metadata": {
        "colab": {
          "base_uri": "https://localhost:8080/"
        },
        "id": "1TMqz1o1ZcQz",
        "outputId": "0ee02cd7-1f2c-47f4-9f3a-ab903d94055d"
      },
      "execution_count": null,
      "outputs": [
        {
          "output_type": "execute_result",
          "data": {
            "text/plain": [
              "<tf.Tensor: shape=(50,), dtype=int64, numpy=\n",
              "array([59,  0, 43,  9,  9, 73, 77,  1, 27, 43, 67, 34, 60, 27, 83, 71, 92,\n",
              "       66, 39, 36, 17, 17, 87, 98, 66, 99, 26, 20, 63, 28, 99, 20, 47, 89,\n",
              "       74, 74, 66, 84, 10, 49, 36, 62,  3, 48, 62, 42,  7,  1, 96, 67])>"
            ]
          },
          "metadata": {},
          "execution_count": 68
        }
      ]
    },
    {
      "cell_type": "markdown",
      "source": [
        "🛠️**Exercise:** With what we've just learned, find the variance and standard deviation of our `E` tensor using TensorFlow methods.\n",
        "\n",
        "Variance: [link](https://www.tensorflow.org/api_docs/python/tf/math/reduce_variance?authuser=1)"
      ],
      "metadata": {
        "id": "sqoKMz4JeueK"
      }
    },
    {
      "cell_type": "code",
      "source": [
        "# Variance of E\n",
        "tf.math.reduce_variance(tf.cast(E, dtype = tf.float32))"
      ],
      "metadata": {
        "colab": {
          "base_uri": "https://localhost:8080/"
        },
        "id": "8q0-M2lGfNsn",
        "outputId": "70b197a7-b9a5-4cd6-9aaf-3dd521f896c6"
      },
      "execution_count": null,
      "outputs": [
        {
          "output_type": "execute_result",
          "data": {
            "text/plain": [
              "<tf.Tensor: shape=(), dtype=float32, numpy=886.08844>"
            ]
          },
          "metadata": {},
          "execution_count": 69
        }
      ]
    },
    {
      "cell_type": "code",
      "source": [
        "# another method for variance\n",
        "import tensorflow_probability as tfp\n",
        "tfp.stats.variance(E)"
      ],
      "metadata": {
        "colab": {
          "base_uri": "https://localhost:8080/"
        },
        "id": "7dQBWBPUijAU",
        "outputId": "f420f78e-25d3-4aa2-e092-a43d5a17201a"
      },
      "execution_count": null,
      "outputs": [
        {
          "output_type": "execute_result",
          "data": {
            "text/plain": [
              "<tf.Tensor: shape=(), dtype=int64, numpy=886>"
            ]
          },
          "metadata": {},
          "execution_count": 70
        }
      ]
    },
    {
      "cell_type": "code",
      "source": [
        "# Standard deviation of E\n",
        "tf.math.reduce_std(tf.cast(E, dtype = tf.float32))"
      ],
      "metadata": {
        "colab": {
          "base_uri": "https://localhost:8080/"
        },
        "id": "2JwAOY6dhNwu",
        "outputId": "1d59ab2f-7174-42d5-fadf-e2e7df59a1bb"
      },
      "execution_count": null,
      "outputs": [
        {
          "output_type": "execute_result",
          "data": {
            "text/plain": [
              "<tf.Tensor: shape=(), dtype=float32, numpy=29.767239>"
            ]
          },
          "metadata": {},
          "execution_count": 71
        }
      ]
    },
    {
      "cell_type": "markdown",
      "source": [
        "### Find the positional maximum and minimum"
      ],
      "metadata": {
        "id": "OPaYUv8lh5Ui"
      }
    },
    {
      "cell_type": "code",
      "source": [
        "# Create a new tensor for finding positional minimum and maximum\n",
        "tf.random.set_seed(42)\n",
        "F = tf.random.uniform(shape=[50])\n",
        "F"
      ],
      "metadata": {
        "id": "EDVG9uXvjpWS",
        "colab": {
          "base_uri": "https://localhost:8080/"
        },
        "outputId": "a6bfb220-e6b1-480b-bd3f-375748769ec7"
      },
      "execution_count": 73,
      "outputs": [
        {
          "output_type": "execute_result",
          "data": {
            "text/plain": [
              "<tf.Tensor: shape=(50,), dtype=float32, numpy=\n",
              "array([0.6645621 , 0.44100678, 0.3528825 , 0.46448255, 0.03366041,\n",
              "       0.68467236, 0.74011743, 0.8724445 , 0.22632635, 0.22319686,\n",
              "       0.3103881 , 0.7223358 , 0.13318717, 0.5480639 , 0.5746088 ,\n",
              "       0.8996835 , 0.00946367, 0.5212307 , 0.6345445 , 0.1993283 ,\n",
              "       0.72942245, 0.54583454, 0.10756552, 0.6767061 , 0.6602763 ,\n",
              "       0.33695042, 0.60141766, 0.21062577, 0.8527372 , 0.44062173,\n",
              "       0.9485276 , 0.23752594, 0.81179297, 0.5263394 , 0.494308  ,\n",
              "       0.21612847, 0.8457197 , 0.8718841 , 0.3083862 , 0.6868038 ,\n",
              "       0.23764038, 0.7817228 , 0.9671384 , 0.06870162, 0.79873943,\n",
              "       0.66028714, 0.5871513 , 0.16461694, 0.7381023 , 0.32054043],\n",
              "      dtype=float32)>"
            ]
          },
          "metadata": {},
          "execution_count": 73
        }
      ]
    },
    {
      "cell_type": "code",
      "source": [
        "# Find the positional maximum\n",
        "tf.argmax(F)"
      ],
      "metadata": {
        "colab": {
          "base_uri": "https://localhost:8080/"
        },
        "id": "Gf6HMsNqxcPn",
        "outputId": "3d696704-3a75-4e5d-b420-422a660e5323"
      },
      "execution_count": 74,
      "outputs": [
        {
          "output_type": "execute_result",
          "data": {
            "text/plain": [
              "<tf.Tensor: shape=(), dtype=int64, numpy=42>"
            ]
          },
          "metadata": {},
          "execution_count": 74
        }
      ]
    },
    {
      "cell_type": "code",
      "source": [
        "# Index on our largest value position\n",
        "F[tf.argmax(F)]"
      ],
      "metadata": {
        "colab": {
          "base_uri": "https://localhost:8080/"
        },
        "id": "Bmjd778dx5DS",
        "outputId": "2bf81b34-328b-4e1d-aefb-0e88fc22da0f"
      },
      "execution_count": 75,
      "outputs": [
        {
          "output_type": "execute_result",
          "data": {
            "text/plain": [
              "<tf.Tensor: shape=(), dtype=float32, numpy=0.9671384>"
            ]
          },
          "metadata": {},
          "execution_count": 75
        }
      ]
    },
    {
      "cell_type": "code",
      "source": [
        "# Find the max value of F\n",
        "tf.reduce_max(F)"
      ],
      "metadata": {
        "colab": {
          "base_uri": "https://localhost:8080/"
        },
        "id": "Bw3ZYL02yNUm",
        "outputId": "ee068567-6bb5-48c0-b0f0-9e08a3039cd0"
      },
      "execution_count": 76,
      "outputs": [
        {
          "output_type": "execute_result",
          "data": {
            "text/plain": [
              "<tf.Tensor: shape=(), dtype=float32, numpy=0.9671384>"
            ]
          },
          "metadata": {},
          "execution_count": 76
        }
      ]
    },
    {
      "cell_type": "markdown",
      "source": [
        "🗝️**Note:** `assert` can be used to check if the error exists or not"
      ],
      "metadata": {
        "id": "VOwifPl3yScw"
      }
    },
    {
      "cell_type": "code",
      "source": [
        "# Check for equality\n",
        "assert F[tf.argmax(F)] == tf.reduce_max(F)"
      ],
      "metadata": {
        "id": "SSmZfzcnyhMb"
      },
      "execution_count": 77,
      "outputs": []
    },
    {
      "cell_type": "code",
      "source": [
        "F[tf.argmax(F)] == tf.reduce_max(F)"
      ],
      "metadata": {
        "colab": {
          "base_uri": "https://localhost:8080/"
        },
        "id": "846UaDTey-XH",
        "outputId": "e29bfa22-8c54-4845-e5e2-88de1bb6ef68"
      },
      "execution_count": 78,
      "outputs": [
        {
          "output_type": "execute_result",
          "data": {
            "text/plain": [
              "<tf.Tensor: shape=(), dtype=bool, numpy=True>"
            ]
          },
          "metadata": {},
          "execution_count": 78
        }
      ]
    },
    {
      "cell_type": "code",
      "source": [
        "# finding the positional minimum\n",
        "tf.argmin(F)"
      ],
      "metadata": {
        "colab": {
          "base_uri": "https://localhost:8080/"
        },
        "id": "ShhhERoNzBpH",
        "outputId": "aa79a511-8cf1-4a4a-d1df-1c71fc91184e"
      },
      "execution_count": 79,
      "outputs": [
        {
          "output_type": "execute_result",
          "data": {
            "text/plain": [
              "<tf.Tensor: shape=(), dtype=int64, numpy=16>"
            ]
          },
          "metadata": {},
          "execution_count": 79
        }
      ]
    },
    {
      "cell_type": "code",
      "source": [
        "# Find the minimum using positional minimum index\n",
        "F[tf.argmin(F)]"
      ],
      "metadata": {
        "colab": {
          "base_uri": "https://localhost:8080/"
        },
        "id": "cf9vnzC0zUZy",
        "outputId": "b959e675-c76e-4d65-92ab-ba94a01151e7"
      },
      "execution_count": 80,
      "outputs": [
        {
          "output_type": "execute_result",
          "data": {
            "text/plain": [
              "<tf.Tensor: shape=(), dtype=float32, numpy=0.009463668>"
            ]
          },
          "metadata": {},
          "execution_count": 80
        }
      ]
    },
    {
      "cell_type": "markdown",
      "source": [
        "### Squeezing a tensor (removing all single dimensions)"
      ],
      "metadata": {
        "id": "RnostWaB0Qpp"
      }
    },
    {
      "cell_type": "code",
      "source": [
        "# Create a tensor to get started\n",
        "tf.random.set_seed(42)\n",
        "G = tf.constant(tf.random.uniform(shape=[50]), shape=(1, 1, 1, 1, 50))\n",
        "G"
      ],
      "metadata": {
        "colab": {
          "base_uri": "https://localhost:8080/"
        },
        "id": "AWpdcVX50Yvy",
        "outputId": "b103cccf-a1f5-43dd-ab1e-f7f3b14c3210"
      },
      "execution_count": 82,
      "outputs": [
        {
          "output_type": "execute_result",
          "data": {
            "text/plain": [
              "<tf.Tensor: shape=(1, 1, 1, 1, 50), dtype=float32, numpy=\n",
              "array([[[[[0.6645621 , 0.44100678, 0.3528825 , 0.46448255, 0.03366041,\n",
              "           0.68467236, 0.74011743, 0.8724445 , 0.22632635, 0.22319686,\n",
              "           0.3103881 , 0.7223358 , 0.13318717, 0.5480639 , 0.5746088 ,\n",
              "           0.8996835 , 0.00946367, 0.5212307 , 0.6345445 , 0.1993283 ,\n",
              "           0.72942245, 0.54583454, 0.10756552, 0.6767061 , 0.6602763 ,\n",
              "           0.33695042, 0.60141766, 0.21062577, 0.8527372 , 0.44062173,\n",
              "           0.9485276 , 0.23752594, 0.81179297, 0.5263394 , 0.494308  ,\n",
              "           0.21612847, 0.8457197 , 0.8718841 , 0.3083862 , 0.6868038 ,\n",
              "           0.23764038, 0.7817228 , 0.9671384 , 0.06870162, 0.79873943,\n",
              "           0.66028714, 0.5871513 , 0.16461694, 0.7381023 , 0.32054043]]]]],\n",
              "      dtype=float32)>"
            ]
          },
          "metadata": {},
          "execution_count": 82
        }
      ]
    },
    {
      "cell_type": "code",
      "source": [
        "G.shape"
      ],
      "metadata": {
        "colab": {
          "base_uri": "https://localhost:8080/"
        },
        "id": "1Ih_5Rua0y2d",
        "outputId": "a0442e49-a0f1-41aa-c05b-5590be6dd100"
      },
      "execution_count": 83,
      "outputs": [
        {
          "output_type": "execute_result",
          "data": {
            "text/plain": [
              "TensorShape([1, 1, 1, 1, 50])"
            ]
          },
          "metadata": {},
          "execution_count": 83
        }
      ]
    },
    {
      "cell_type": "code",
      "source": [
        "G_squeezed = tf.squeeze(G)\n",
        "G_squeezed, G_squeezed.shape"
      ],
      "metadata": {
        "colab": {
          "base_uri": "https://localhost:8080/"
        },
        "id": "ei8D2mgT1Jkt",
        "outputId": "55485554-81f0-4255-bdb5-707faab9096e"
      },
      "execution_count": 84,
      "outputs": [
        {
          "output_type": "execute_result",
          "data": {
            "text/plain": [
              "(<tf.Tensor: shape=(50,), dtype=float32, numpy=\n",
              " array([0.6645621 , 0.44100678, 0.3528825 , 0.46448255, 0.03366041,\n",
              "        0.68467236, 0.74011743, 0.8724445 , 0.22632635, 0.22319686,\n",
              "        0.3103881 , 0.7223358 , 0.13318717, 0.5480639 , 0.5746088 ,\n",
              "        0.8996835 , 0.00946367, 0.5212307 , 0.6345445 , 0.1993283 ,\n",
              "        0.72942245, 0.54583454, 0.10756552, 0.6767061 , 0.6602763 ,\n",
              "        0.33695042, 0.60141766, 0.21062577, 0.8527372 , 0.44062173,\n",
              "        0.9485276 , 0.23752594, 0.81179297, 0.5263394 , 0.494308  ,\n",
              "        0.21612847, 0.8457197 , 0.8718841 , 0.3083862 , 0.6868038 ,\n",
              "        0.23764038, 0.7817228 , 0.9671384 , 0.06870162, 0.79873943,\n",
              "        0.66028714, 0.5871513 , 0.16461694, 0.7381023 , 0.32054043],\n",
              "       dtype=float32)>,\n",
              " TensorShape([50]))"
            ]
          },
          "metadata": {},
          "execution_count": 84
        }
      ]
    },
    {
      "cell_type": "markdown",
      "source": [
        "### One-hot encoding tensors\n",
        "[one-hot-coding-theory](https://machinelearningmastery.com/why-one-hot-encode-data-in-machine-learning/)\n",
        "\n",
        "If you have a tensor of indicies and would like to one-hot encode it, you can use `tf.one_hot()`.\n",
        "\n",
        "You should also specify the `depth` parameter (the level which you want to one-hot encode to)."
      ],
      "metadata": {
        "id": "eKu3zB_I1Uxd"
      }
    },
    {
      "cell_type": "code",
      "source": [
        "# Create a list of indices\n",
        "some_list = [0, 1, 2, 3] # could be red, blue, green, purple\n",
        "\n",
        "# One hot encode our list of indices\n",
        "tf.one_hot(some_list, depth=4)"
      ],
      "metadata": {
        "colab": {
          "base_uri": "https://localhost:8080/"
        },
        "id": "SnVhHv6g2ADm",
        "outputId": "3c898a66-9377-4fbb-c27f-d93dffe5ff7a"
      },
      "execution_count": 85,
      "outputs": [
        {
          "output_type": "execute_result",
          "data": {
            "text/plain": [
              "<tf.Tensor: shape=(4, 4), dtype=float32, numpy=\n",
              "array([[1., 0., 0., 0.],\n",
              "       [0., 1., 0., 0.],\n",
              "       [0., 0., 1., 0.],\n",
              "       [0., 0., 0., 1.]], dtype=float32)>"
            ]
          },
          "metadata": {},
          "execution_count": 85
        }
      ]
    },
    {
      "cell_type": "code",
      "source": [
        "# Specify custom values for one hot encoding\n",
        "tf.one_hot(some_list, depth=4, on_value=\"Yo I love DL\", off_value=\"I love to eat\")"
      ],
      "metadata": {
        "colab": {
          "base_uri": "https://localhost:8080/"
        },
        "id": "PzOPJhsw3Ous",
        "outputId": "557ae4bb-4c13-4bd1-82f2-7f4809c8d4e7"
      },
      "execution_count": 86,
      "outputs": [
        {
          "output_type": "execute_result",
          "data": {
            "text/plain": [
              "<tf.Tensor: shape=(4, 4), dtype=string, numpy=\n",
              "array([[b'Yo I love DL', b'I love to eat', b'I love to eat',\n",
              "        b'I love to eat'],\n",
              "       [b'I love to eat', b'Yo I love DL', b'I love to eat',\n",
              "        b'I love to eat'],\n",
              "       [b'I love to eat', b'I love to eat', b'Yo I love DL',\n",
              "        b'I love to eat'],\n",
              "       [b'I love to eat', b'I love to eat', b'I love to eat',\n",
              "        b'Yo I love DL']], dtype=object)>"
            ]
          },
          "metadata": {},
          "execution_count": 86
        }
      ]
    },
    {
      "cell_type": "markdown",
      "source": [
        "### Squaring, log, square root\n",
        "* `tf.square()` - get the square of every value in a tensor.\n",
        "* `tf.sqrt()` - get the squareroot of every value in a tensor (**note:** the elements need to be floats or this will error).\n",
        "* `tf.math.log()` - get the natural log of every value in a tensor (elements need to floats)."
      ],
      "metadata": {
        "id": "wtBHqtPk39MU"
      }
    },
    {
      "cell_type": "code",
      "source": [
        "# Create a new tensor\n",
        "H = tf.range(1, 10)\n",
        "H"
      ],
      "metadata": {
        "colab": {
          "base_uri": "https://localhost:8080/"
        },
        "id": "rhkRbc8V45Qd",
        "outputId": "9fb236fd-01cb-4983-b573-212246f124dd"
      },
      "execution_count": 87,
      "outputs": [
        {
          "output_type": "execute_result",
          "data": {
            "text/plain": [
              "<tf.Tensor: shape=(9,), dtype=int32, numpy=array([1, 2, 3, 4, 5, 6, 7, 8, 9], dtype=int32)>"
            ]
          },
          "metadata": {},
          "execution_count": 87
        }
      ]
    },
    {
      "cell_type": "code",
      "source": [
        "# Square it\n",
        "tf.square(H)"
      ],
      "metadata": {
        "colab": {
          "base_uri": "https://localhost:8080/"
        },
        "id": "oxFJT83e5FPx",
        "outputId": "90c566c8-0c09-4315-b20e-ae92bda0037c"
      },
      "execution_count": 88,
      "outputs": [
        {
          "output_type": "execute_result",
          "data": {
            "text/plain": [
              "<tf.Tensor: shape=(9,), dtype=int32, numpy=array([ 1,  4,  9, 16, 25, 36, 49, 64, 81], dtype=int32)>"
            ]
          },
          "metadata": {},
          "execution_count": 88
        }
      ]
    },
    {
      "cell_type": "code",
      "source": [
        "# Square root (will require a non-int type)\n",
        "tf.sqrt(tf.cast(H, dtype=tf.bfloat16))"
      ],
      "metadata": {
        "colab": {
          "base_uri": "https://localhost:8080/"
        },
        "id": "4mfDw7y75LKN",
        "outputId": "872ce752-1fc3-4141-cadf-4fc4de371b60"
      },
      "execution_count": 91,
      "outputs": [
        {
          "output_type": "execute_result",
          "data": {
            "text/plain": [
              "<tf.Tensor: shape=(9,), dtype=bfloat16, numpy=\n",
              "array([1, 1.41406, 1.73438, 2, 2.23438, 2.45312, 2.64062, 2.82812, 3],\n",
              "      dtype=bfloat16)>"
            ]
          },
          "metadata": {},
          "execution_count": 91
        }
      ]
    },
    {
      "cell_type": "code",
      "source": [
        "# finding log\n",
        "tf.math.log(tf.cast(H, dtype=tf.bfloat16))"
      ],
      "metadata": {
        "colab": {
          "base_uri": "https://localhost:8080/"
        },
        "id": "vUGLUHbq5QVR",
        "outputId": "c33f0710-0726-42c1-e98b-3372c5063549"
      },
      "execution_count": 93,
      "outputs": [
        {
          "output_type": "execute_result",
          "data": {
            "text/plain": [
              "<tf.Tensor: shape=(9,), dtype=bfloat16, numpy=\n",
              "array([0, 0.691406, 1.10156, 1.38281, 1.60938, 1.78906, 1.94531, 2.07812,\n",
              "       2.20312], dtype=bfloat16)>"
            ]
          },
          "metadata": {},
          "execution_count": 93
        }
      ]
    },
    {
      "cell_type": "markdown",
      "source": [
        "## Tensors and NumPy\n",
        "TensorFlow interacts beautifully with NumPy arrays.\n",
        "\n",
        "🔑 **Note:** One of the main differences between a TensorFlow tensor and a NumPy array is that a TensorFlow tensor can be run on a GPU or TPU (for faster numerical processing)."
      ],
      "metadata": {
        "id": "02re4jzz52G1"
      }
    },
    {
      "cell_type": "code",
      "source": [
        "# Create a tensor directly from a NumPy array\n",
        "I = tf.constant(np.array([3., 7., 10.]))\n",
        "I"
      ],
      "metadata": {
        "colab": {
          "base_uri": "https://localhost:8080/"
        },
        "id": "CYJGMUIw8hdj",
        "outputId": "deacf4e8-0915-487f-d5e2-e7ff56a55d60"
      },
      "execution_count": 95,
      "outputs": [
        {
          "output_type": "execute_result",
          "data": {
            "text/plain": [
              "<tf.Tensor: shape=(3,), dtype=float64, numpy=array([ 3.,  7., 10.])>"
            ]
          },
          "metadata": {},
          "execution_count": 95
        }
      ]
    },
    {
      "cell_type": "code",
      "source": [
        "# Convert our tensor to numpy array\n",
        "np.array(I), type(np.array(I))"
      ],
      "metadata": {
        "colab": {
          "base_uri": "https://localhost:8080/"
        },
        "id": "r7XkNx0h8zBQ",
        "outputId": "06af40f7-6524-40a4-e4e4-b4a51a1fd910"
      },
      "execution_count": 96,
      "outputs": [
        {
          "output_type": "execute_result",
          "data": {
            "text/plain": [
              "(array([ 3.,  7., 10.]), numpy.ndarray)"
            ]
          },
          "metadata": {},
          "execution_count": 96
        }
      ]
    },
    {
      "cell_type": "code",
      "source": [
        "# Convert tensor I to NumPy array\n",
        "I.numpy(), type(I.numpy())"
      ],
      "metadata": {
        "colab": {
          "base_uri": "https://localhost:8080/"
        },
        "id": "APD662UC9EHm",
        "outputId": "a1bf97a5-6b78-42a3-c2e1-d4a6e84a0236"
      },
      "execution_count": 97,
      "outputs": [
        {
          "output_type": "execute_result",
          "data": {
            "text/plain": [
              "(array([ 3.,  7., 10.]), numpy.ndarray)"
            ]
          },
          "metadata": {},
          "execution_count": 97
        }
      ]
    },
    {
      "cell_type": "code",
      "source": [
        "J = tf.constant([3.])\n",
        "J.numpy()[0]"
      ],
      "metadata": {
        "colab": {
          "base_uri": "https://localhost:8080/"
        },
        "id": "oKr4ggbZ9dQb",
        "outputId": "f0279a5a-aec9-48d5-bb29-111e41f6d292"
      },
      "execution_count": 98,
      "outputs": [
        {
          "output_type": "execute_result",
          "data": {
            "text/plain": [
              "3.0"
            ]
          },
          "metadata": {},
          "execution_count": 98
        }
      ]
    },
    {
      "cell_type": "code",
      "source": [
        "# The default types of each are slightly different\n",
        "numpy_I = tf.constant(np.array([3., 7., 10.]))\n",
        "tensor_I = tf.constant([[3., 7., 10.]])\n",
        "\n",
        "# Check the datatypes of each\n",
        "numpy_I.dtype, tensor_I.dtype"
      ],
      "metadata": {
        "colab": {
          "base_uri": "https://localhost:8080/"
        },
        "id": "WdlJmS_n9tyc",
        "outputId": "cdfc3226-6b88-4317-936a-fed9895d8bb7"
      },
      "execution_count": 99,
      "outputs": [
        {
          "output_type": "execute_result",
          "data": {
            "text/plain": [
              "(tf.float64, tf.float32)"
            ]
          },
          "metadata": {},
          "execution_count": 99
        }
      ]
    },
    {
      "cell_type": "markdown",
      "source": [
        "## Finding access to GPUs"
      ],
      "metadata": {
        "id": "Ma4KydkQ-fM0"
      }
    },
    {
      "cell_type": "code",
      "source": [
        "import tensorflow as tf\n",
        "tf.config.list_physical_devices(\"GPU\")"
      ],
      "metadata": {
        "colab": {
          "base_uri": "https://localhost:8080/"
        },
        "id": "9IlNPqe4ARQD",
        "outputId": "844da2b6-d707-40e8-d362-f0177fedaea1"
      },
      "execution_count": 100,
      "outputs": [
        {
          "output_type": "execute_result",
          "data": {
            "text/plain": [
              "[]"
            ]
          },
          "metadata": {},
          "execution_count": 100
        }
      ]
    },
    {
      "cell_type": "code",
      "source": [
        "!nvidia-smi"
      ],
      "metadata": {
        "colab": {
          "base_uri": "https://localhost:8080/"
        },
        "id": "NzWNAt9kAY7N",
        "outputId": "179d0d89-91bd-4857-8fb2-a271f1f34ec4"
      },
      "execution_count": 101,
      "outputs": [
        {
          "output_type": "stream",
          "name": "stdout",
          "text": [
            "/bin/bash: line 1: nvidia-smi: command not found\n"
          ]
        }
      ]
    },
    {
      "cell_type": "markdown",
      "source": [
        "> 🔑 **Note:** If you have access to a CUDA-enabled GPU, TensorFlow will automatically use it whenever possible."
      ],
      "metadata": {
        "id": "FCeOG0XgAcWK"
      }
    }
  ]
}