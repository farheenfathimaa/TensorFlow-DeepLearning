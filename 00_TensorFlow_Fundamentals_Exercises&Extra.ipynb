{
  "nbformat": 4,
  "nbformat_minor": 0,
  "metadata": {
    "colab": {
      "provenance": [],
      "authorship_tag": "ABX9TyMIQFVXjqsSeOLAys+imoz6",
      "include_colab_link": true
    },
    "kernelspec": {
      "name": "python3",
      "display_name": "Python 3"
    },
    "language_info": {
      "name": "python"
    }
  },
  "cells": [
    {
      "cell_type": "markdown",
      "metadata": {
        "id": "view-in-github",
        "colab_type": "text"
      },
      "source": [
        "<a href=\"https://colab.research.google.com/github/farheenfathimaa/TensorFlow-DeepLearning/blob/main/00_TensorFlow_Fundamentals_Exercises%26Extra.ipynb\" target=\"_parent\"><img src=\"https://colab.research.google.com/assets/colab-badge.svg\" alt=\"Open In Colab\"/></a>"
      ]
    },
    {
      "cell_type": "code",
      "execution_count": 1,
      "metadata": {
        "id": "9sCNRPmEBfBG"
      },
      "outputs": [],
      "source": [
        "# Import TensorFlow"
      ]
    },
    {
      "cell_type": "markdown",
      "source": [
        "# Exercise\n",
        "## 🛠 00 TensorFlow Fundamentals Exercises\n",
        "1. Create a vector, scalar, matrix and tensor with values of your choosing using `tf.constant()`.\n",
        "2. Find the **shape**, **rank** and **size** of the tensors you created in 1.\n",
        "3. Create two tensors containing random values between 0 and 1 with shape `[5, 300]`.\n",
        "4. Multiply the two tensors you created in 3 using **matrix multiplication**.\n",
        "5. Multiply the two tensors you created in 3 using **dot product**.\n",
        "6. Create a tensor with **random values** between 0 and 1 with shape `[224, 224, 3]`.\n",
        "7. Find the **min** and **max values** of the tensor you created in 6.\n",
        "8. Created a tensor with random values of shape `[1, 224, 224, 3]` then **squeeze** it to change the shape to `[224, 224, 3]`.\n",
        "9. Create a tensor with shape `[10]` using your own choice of values, then find the **index** which has the **maximum value**.\n",
        "10. **One-hot** encode the tensor you created in 9.\n",
        "\n",
        "## 1. Create a vector, scalar, matrix and tensor with values of your choosing using `tf.constant()`."
      ],
      "metadata": {
        "id": "kLaTUr_aB1uJ"
      }
    },
    {
      "cell_type": "code",
      "source": [
        "# Creating a scalar\n",
        "\n",
        "# Creating a vector\n",
        "\n",
        "# Creating a matrix\n",
        "\n",
        "# Creating a tensor"
      ],
      "metadata": {
        "id": "sYDat6ifDF6O"
      },
      "execution_count": 2,
      "outputs": []
    },
    {
      "cell_type": "markdown",
      "source": [
        "## 2. Find the **shape**, **rank** and **size** of the tensors you created in 1."
      ],
      "metadata": {
        "id": "T1hzzLxbDNyY"
      }
    },
    {
      "cell_type": "code",
      "source": [
        "# Finding the shape, rank and size"
      ],
      "metadata": {
        "id": "LtfMZY3LENTx"
      },
      "execution_count": 3,
      "outputs": []
    },
    {
      "cell_type": "markdown",
      "source": [
        "## 3. Create two tensors containing random values between 0 and 1 with shape `[5, 300]`."
      ],
      "metadata": {
        "id": "7dO7XSoIDW_2"
      }
    },
    {
      "cell_type": "code",
      "source": [
        "# Set seed\n",
        "\n",
        "# Setting up the shape\n"
      ],
      "metadata": {
        "id": "XDgbvXRBESFM"
      },
      "execution_count": 4,
      "outputs": []
    },
    {
      "cell_type": "markdown",
      "source": [
        "## 4. Multiply the two tensors you created in 3 using **matrix multiplication**."
      ],
      "metadata": {
        "id": "XhxhN_1NDfkD"
      }
    },
    {
      "cell_type": "code",
      "source": [
        "# Multiplying\n"
      ],
      "metadata": {
        "id": "jBJjFtHwEXO7"
      },
      "execution_count": 5,
      "outputs": []
    },
    {
      "cell_type": "markdown",
      "source": [
        "## 5. Multiply the two tensors you created in 3 using **dot product**."
      ],
      "metadata": {
        "id": "6pDrwlLNDfZq"
      }
    },
    {
      "cell_type": "code",
      "source": [
        "# Using tensordot\n"
      ],
      "metadata": {
        "id": "39EZ2H9WEZih"
      },
      "execution_count": 6,
      "outputs": []
    },
    {
      "cell_type": "markdown",
      "source": [
        "## 6. Create a tensor with **random values** between 0 and 1 with shape `[224, 224, 3]`."
      ],
      "metadata": {
        "id": "oaS1EbUUDfLi"
      }
    },
    {
      "cell_type": "code",
      "source": [
        "# Tensor with shape [224 , 224 , 3]\n"
      ],
      "metadata": {
        "id": "qlpZkQDlEeRO"
      },
      "execution_count": 7,
      "outputs": []
    },
    {
      "cell_type": "code",
      "source": [
        "# Checking the min and max value of our tensor"
      ],
      "metadata": {
        "id": "Ml2g3BwREj65"
      },
      "execution_count": 8,
      "outputs": []
    },
    {
      "cell_type": "markdown",
      "source": [
        "## 7. Find the **min** and **max values** of the tensor you created in 6."
      ],
      "metadata": {
        "id": "MuvbS9TADe3d"
      }
    },
    {
      "cell_type": "code",
      "source": [
        "# Finding the minimum\n"
      ],
      "metadata": {
        "id": "3VxnizimEnTl"
      },
      "execution_count": 9,
      "outputs": []
    },
    {
      "cell_type": "code",
      "source": [
        "# Finding the maximum\n"
      ],
      "metadata": {
        "id": "nzG7OaoPErT2"
      },
      "execution_count": 11,
      "outputs": []
    },
    {
      "cell_type": "markdown",
      "source": [
        "## 8. Created a tensor with random values of shape `[1, 224, 224, 3]` then **squeeze** it to change the shape to `[224, 224, 3]`."
      ],
      "metadata": {
        "id": "4U3xSTzTDehE"
      }
    },
    {
      "cell_type": "code",
      "source": [
        "# Tensor with shape [224 , 224 , 3]\n"
      ],
      "metadata": {
        "id": "fPQRWVXrEwUc"
      },
      "execution_count": null,
      "outputs": []
    },
    {
      "cell_type": "code",
      "source": [
        "# And we are squeezing it\n"
      ],
      "metadata": {
        "id": "eM5h2VE3EzXW"
      },
      "execution_count": 12,
      "outputs": []
    },
    {
      "cell_type": "markdown",
      "source": [
        "## 9. Create a tensor with shape `[10]` using your own choice of values, then find the **index** which has the **maximum value**."
      ],
      "metadata": {
        "id": "A_VnsYevDxbG"
      }
    },
    {
      "cell_type": "code",
      "source": [
        "ten_tensor = tf.constant([0 ,1 ,2 ,3, 4, 9, 10, 0.1 , -000.1 , 6])\n",
        "\n",
        "# Finding the index where value is maximum\n"
      ],
      "metadata": {
        "id": "g0BlxzleE6MO"
      },
      "execution_count": 14,
      "outputs": []
    },
    {
      "cell_type": "markdown",
      "source": [
        "## 10. **One-hot** encode the tensor you created in 9."
      ],
      "metadata": {
        "id": "GX5MjUrtDycq"
      }
    },
    {
      "cell_type": "code",
      "source": [
        "# Throw's an error since I had floating numbers in my tensor, casting to int solved!\n"
      ],
      "metadata": {
        "id": "TJPu_lBPFDAM"
      },
      "execution_count": 15,
      "outputs": []
    },
    {
      "cell_type": "code",
      "source": [
        "# One hot encoding the tensor of shape 10\n"
      ],
      "metadata": {
        "id": "U7J1mxQPFExz"
      },
      "execution_count": 16,
      "outputs": []
    },
    {
      "cell_type": "markdown",
      "source": [
        "# Extra Curriculum\n",
        "* Try to create a series of tensor functions to calculate your most recent grocery bill (it's okay if you don't use the names of the items, just the price in numerical form).\n",
        "  * How would you calculate your grocery bill for the month and for the year using tensors?"
      ],
      "metadata": {
        "id": "Y0XJdu7_FS6c"
      }
    },
    {
      "cell_type": "code",
      "source": [],
      "metadata": {
        "id": "7pzg6Y8OFbUV"
      },
      "execution_count": null,
      "outputs": []
    }
  ]
}